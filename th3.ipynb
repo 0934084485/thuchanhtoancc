{
  "nbformat": 4,
  "nbformat_minor": 0,
  "metadata": {
    "colab": {
      "name": "th3.ipynb",
      "provenance": [],
      "collapsed_sections": [],
      "authorship_tag": "ABX9TyP3eqPOS+yN05D+8Ke+NNS0",
      "include_colab_link": true
    },
    "kernelspec": {
      "name": "python3",
      "display_name": "Python 3"
    },
    "language_info": {
      "name": "python"
    }
  },
  "cells": [
    {
      "cell_type": "markdown",
      "metadata": {
        "id": "view-in-github",
        "colab_type": "text"
      },
      "source": [
        "<a href=\"https://colab.research.google.com/github/0934084485/thuchanhtoancc/blob/main/th3.ipynb\" target=\"_parent\"><img src=\"https://colab.research.google.com/assets/colab-badge.svg\" alt=\"Open In Colab\"/></a>"
      ]
    },
    {
      "cell_type": "markdown",
      "source": [
        "Thực hành 1"
      ],
      "metadata": {
        "id": "417Hzo5dfWHL"
      }
    },
    {
      "cell_type": "code",
      "source": [
        "def luythua(x, n):\n",
        "  ketqua= 1 \n",
        "  for i in range(n): \n",
        "    ketqua = ketqua *x \n",
        "  return ketqua \n",
        "luythua(2,1)"
      ],
      "metadata": {
        "colab": {
          "base_uri": "https://localhost:8080/"
        },
        "id": "v90OKUIrfXW3",
        "outputId": "059c3e5f-d6d0-4802-c866-01d969190eb4"
      },
      "execution_count": 1,
      "outputs": [
        {
          "output_type": "execute_result",
          "data": {
            "text/plain": [
              "2"
            ]
          },
          "metadata": {},
          "execution_count": 1
        }
      ]
    },
    {
      "cell_type": "code",
      "source": [
        "luythua(2,0)"
      ],
      "metadata": {
        "colab": {
          "base_uri": "https://localhost:8080/"
        },
        "id": "ESaIbC-IfbJX",
        "outputId": "13469df0-d1ea-4d66-8578-2f5ee3f24f5a"
      },
      "execution_count": 2,
      "outputs": [
        {
          "output_type": "execute_result",
          "data": {
            "text/plain": [
              "1"
            ]
          },
          "metadata": {},
          "execution_count": 2
        }
      ]
    },
    {
      "cell_type": "markdown",
      "source": [
        "Thực hành 2"
      ],
      "metadata": {
        "id": "ajprohOqfjjv"
      }
    },
    {
      "cell_type": "code",
      "source": [
        "while 1 == 2:\n",
        "  10 * (1/0) \n",
        "  3 * bien_chua_khai_bao / 4 \n",
        "  'ba' + 7 \n",
        "  10 * (1/0) \n",
        "  'ba' + (1/0) \n",
        "  'ba'+str(7)+str((1/0))"
      ],
      "metadata": {
        "id": "ku1Si6kFfkox"
      },
      "execution_count": 3,
      "outputs": []
    },
    {
      "cell_type": "markdown",
      "source": [
        "Thực hành 3"
      ],
      "metadata": {
        "id": "B1bKAG08fnrx"
      }
    },
    {
      "cell_type": "code",
      "source": [
        "x = int(input(\"Vui long nhap so\"))\n",
        "while True:\n",
        "  try:\n",
        "    x = int(input(\"vui lòng nhập số\")) \n",
        "    break\n",
        "  except:\n",
        "    print(\"Vui lòng nhập số. Không nhập chữ\")"
      ],
      "metadata": {
        "colab": {
          "base_uri": "https://localhost:8080/"
        },
        "id": "fqVAYSMofoDn",
        "outputId": "dc5dd81d-22c1-4c75-b91e-dfe35f3a7a35"
      },
      "execution_count": 4,
      "outputs": [
        {
          "name": "stdout",
          "output_type": "stream",
          "text": [
            "Vui long nhap so23\n",
            "vui lòng nhập số345\n"
          ]
        }
      ]
    },
    {
      "cell_type": "markdown",
      "source": [
        "Thực hành 4"
      ],
      "metadata": {
        "id": "BhOgfGv9fq74"
      }
    },
    {
      "cell_type": "code",
      "source": [
        "while True: \n",
        "  try:\n",
        "    x = int(input('Vui long nhap so: '))\n",
        "  except:\n",
        "    print ('So vua nhap sai')\n",
        "  else:\n",
        "    print ('so vua nhap la ' + str(x)) \n",
        "    break\n",
        "  finally:\n",
        "    print ('Da hoan thanh chuong trinh')"
      ],
      "metadata": {
        "colab": {
          "base_uri": "https://localhost:8080/"
        },
        "id": "3C1HV_ORfuj3",
        "outputId": "203f2fb9-7334-4298-935f-613f66531c82"
      },
      "execution_count": 5,
      "outputs": [
        {
          "output_type": "stream",
          "name": "stdout",
          "text": [
            "Vui long nhap so: 234\n",
            "so vua nhap la 234\n",
            "Da hoan thanh chuong trinh\n"
          ]
        }
      ]
    },
    {
      "cell_type": "markdown",
      "source": [
        "Thực hành 5"
      ],
      "metadata": {
        "id": "zeI_c7OffwIX"
      }
    },
    {
      "cell_type": "code",
      "source": [
        "def frange(batdau, ketthuc, buocnhay): \n",
        "  day_ketqua = [] \n",
        "  while batdau < ketthuc:\n",
        "    day_ketqua.append(batdau)\n",
        "    batdau = batdau + buocnhay\n",
        "  return day_ketqua\n",
        "tu0den2 = frange(0,2, 0.9)\n",
        "tu0den2"
      ],
      "metadata": {
        "colab": {
          "base_uri": "https://localhost:8080/"
        },
        "id": "R_HoleHsfxUb",
        "outputId": "4a540dd8-9071-462f-9060-49454d6753ae"
      },
      "execution_count": 6,
      "outputs": [
        {
          "output_type": "execute_result",
          "data": {
            "text/plain": [
              "[0, 0.9, 1.8]"
            ]
          },
          "metadata": {},
          "execution_count": 6
        }
      ]
    },
    {
      "cell_type": "markdown",
      "source": [
        "Thực hành 6"
      ],
      "metadata": {
        "id": "RV1Xu4Jlf1Ez"
      }
    },
    {
      "cell_type": "code",
      "source": [
        "from pylab import plot, show\n",
        "from matplotlib import pyplot as plt \n",
        "import math"
      ],
      "metadata": {
        "id": "uSVHznaUf2LF"
      },
      "execution_count": 7,
      "outputs": []
    },
    {
      "cell_type": "code",
      "source": [
        "def draw_graph(x, y): \n",
        "  plt.plot(x, y)\n",
        "  plt.xlabel('Truc X') \n",
        "  plt.ylabel('Truc Y') \n",
        "  plt.title('Do thi bai toan nem qua bong')"
      ],
      "metadata": {
        "id": "--myCDxAf3w8"
      },
      "execution_count": 8,
      "outputs": []
    },
    {
      "cell_type": "code",
      "source": [
        "def frange(start, final, interval): \n",
        "  numbers = []\n",
        "  while start < final:\n",
        "    numbers.append(start)\n",
        "    start = start + interval\n",
        "  return numbers"
      ],
      "metadata": {
        "id": "5bXc9jEHf5n0"
      },
      "execution_count": 9,
      "outputs": []
    },
    {
      "cell_type": "code",
      "source": [
        "def draw_trajectory(u, theta):\n",
        "  g = 9.8\n",
        "  theta = math.radians(theta) \n",
        "  t_flight = 2*u*math.sin(theta)/g\n",
        "  intervals = frange(0, t_flight, 0.001)\n",
        "  x = []\n",
        "  y = []\n",
        "  for t in intervals:\n",
        "    x.append(u*math.cos(theta)*t)\n",
        "    y.append(u*math.sin(theta)*t - 0.5*g*t*t)\n",
        "  draw_graph(x, y)"
      ],
      "metadata": {
        "id": "q42MxDklf7mc"
      },
      "execution_count": 10,
      "outputs": []
    },
    {
      "cell_type": "code",
      "source": [
        "def frange(_main_):\n",
        "  if _name_ == '_main_':\n",
        "    try:\n",
        "      u = float(input('Nhap van toc ban dau (m/s): '))\n",
        "      theta = float(input('Nhap goc bay (degrees): ')) \n",
        "    except ValueError:\n",
        "      print (' Nhap cac gia tri sai! ')\n",
        "    else:\n",
        "      draw_trajectory(u, theta)\n",
        "      plt.show()\n",
        "    finally:\n",
        "      print ('Hoan thanh chuong trinh!')"
      ],
      "metadata": {
        "id": "Lpq1F-Fvf9d7"
      },
      "execution_count": 11,
      "outputs": []
    },
    {
      "cell_type": "markdown",
      "source": [
        "Thực hành 7"
      ],
      "metadata": {
        "id": "FEdQojF9f_LS"
      }
    },
    {
      "cell_type": "code",
      "source": [
        "def frange(_main_):\n",
        "  if _name_ == '_main_':\n",
        "    ds_vantoc = [20, 40, 60]\n",
        "    goc_bandau = 45\n",
        "    for v in ds_vantoc:\n",
        "      draw_trajectory(v, goc_bandau)\n",
        "    chudan = []\n",
        "    for i in ds_vantoc:\n",
        "      chudan.append(str(i))\n",
        "    print (\"Chu dan duoc tao la: \")\n",
        "    print (chudan)\n",
        "    plt.legend(chudan)\n",
        "    plt.show()"
      ],
      "metadata": {
        "id": "jl6O0QOMf_rk"
      },
      "execution_count": 12,
      "outputs": []
    },
    {
      "cell_type": "markdown",
      "source": [
        "Thực hành 8"
      ],
      "metadata": {
        "id": "qvrgU6MLgCDy"
      }
    },
    {
      "cell_type": "code",
      "source": [
        "from sympy import Symbol, Derivative, sympify, pprint\n",
        "def tinh_daoham(ham_f, bien):\n",
        "  bien = Symbol(bien)\n",
        "  d = Derivative(ham_f, bien).doit()\n",
        "  pprint(d)\n",
        "tinh_daoham('x**3+x**2+x', 'x')"
      ],
      "metadata": {
        "colab": {
          "base_uri": "https://localhost:8080/"
        },
        "id": "bEYiXwXagCil",
        "outputId": "18cb71f2-6a73-42f2-b06a-2819442c093d"
      },
      "execution_count": 13,
      "outputs": [
        {
          "output_type": "stream",
          "name": "stdout",
          "text": [
            "   2          \n",
            "3⋅x  + 2⋅x + 1\n"
          ]
        }
      ]
    },
    {
      "cell_type": "code",
      "source": [
        "tinh_daoham('x/3+x**2+r', 'x')"
      ],
      "metadata": {
        "colab": {
          "base_uri": "https://localhost:8080/"
        },
        "id": "OcEcKYGKgHVn",
        "outputId": "226bc480-8372-479d-a064-e14276c907a8"
      },
      "execution_count": 14,
      "outputs": [
        {
          "output_type": "stream",
          "name": "stdout",
          "text": [
            "2⋅x + 1/3\n"
          ]
        }
      ]
    }
  ]
}