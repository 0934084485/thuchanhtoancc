{
  "nbformat": 4,
  "nbformat_minor": 0,
  "metadata": {
    "colab": {
      "name": "th2.ipynb",
      "provenance": [],
      "collapsed_sections": [],
      "authorship_tag": "ABX9TyPKD4lfS2tvuaL0OYhD3UkC",
      "include_colab_link": true
    },
    "kernelspec": {
      "name": "python3",
      "display_name": "Python 3"
    },
    "language_info": {
      "name": "python"
    }
  },
  "cells": [
    {
      "cell_type": "markdown",
      "metadata": {
        "id": "view-in-github",
        "colab_type": "text"
      },
      "source": [
        "<a href=\"https://colab.research.google.com/github/0934084485/thuchanhtoancc/blob/main/th2.ipynb\" target=\"_parent\"><img src=\"https://colab.research.google.com/assets/colab-badge.svg\" alt=\"Open In Colab\"/></a>"
      ]
    },
    {
      "cell_type": "markdown",
      "source": [
        "Thực hành 1"
      ],
      "metadata": {
        "id": "6POrAK_-a-tU"
      }
    },
    {
      "cell_type": "code",
      "source": [
        "chuoitinhtoan = \"a*b+c\" \n",
        "a = 2\n",
        "b = 5 \n",
        "c = 8   \n",
        "eval(chuoitinhtoan)"
      ],
      "metadata": {
        "colab": {
          "base_uri": "https://localhost:8080/"
        },
        "id": "UN2XFynabAY5",
        "outputId": "aae56da9-1716-4db3-b040-2150ddad1a5a"
      },
      "execution_count": 33,
      "outputs": [
        {
          "output_type": "execute_result",
          "data": {
            "text/plain": [
              "18"
            ]
          },
          "metadata": {},
          "execution_count": 33
        }
      ]
    },
    {
      "cell_type": "markdown",
      "source": [
        "Thực hành 2"
      ],
      "metadata": {
        "id": "gUHTMpLDbEEL"
      }
    },
    {
      "cell_type": "code",
      "source": [
        "from sympy import Symbol \n",
        "x = Symbol('x') \n",
        "y = Symbol('y') \n",
        "bieuthuc = x+y \n",
        "thaytheso = bieuthuc.subs({x:10, y:5}) \n",
        "thaytheso"
      ],
      "metadata": {
        "colab": {
          "base_uri": "https://localhost:8080/",
          "height": 37
        },
        "id": "jCLFEFkwbFGd",
        "outputId": "fb53190e-c7b5-4433-df3b-35e2d7eb95ad"
      },
      "execution_count": 34,
      "outputs": [
        {
          "output_type": "execute_result",
          "data": {
            "text/plain": [
              "15"
            ],
            "text/latex": "$\\displaystyle 15$"
          },
          "metadata": {},
          "execution_count": 34
        }
      ]
    },
    {
      "cell_type": "code",
      "source": [
        "u = Symbol('u')\n",
        "v = Symbol('v')\n",
        "bieuthuc_theo_uv = bieuthuc.subs({x:u, y:v}) \n",
        "bieuthuc_theo_uv"
      ],
      "metadata": {
        "colab": {
          "base_uri": "https://localhost:8080/",
          "height": 38
        },
        "id": "_LIBSZ14bIUQ",
        "outputId": "a7f3d4b3-0fcf-466e-9597-faffa96deec8"
      },
      "execution_count": 35,
      "outputs": [
        {
          "output_type": "execute_result",
          "data": {
            "text/plain": [
              "u + v"
            ],
            "text/latex": "$\\displaystyle u + v$"
          },
          "metadata": {},
          "execution_count": 35
        }
      ]
    },
    {
      "cell_type": "code",
      "source": [
        "thaythe_tinhtoan = bieuthuc.subs({x:2*u*v, y:u**2+v**2})\n",
        "thaythe_tinhtoan \n",
        "u**2 + 2*u*v + v**2 \n",
        "thaythe_tinhtoan.factor()"
      ],
      "metadata": {
        "colab": {
          "base_uri": "https://localhost:8080/",
          "height": 40
        },
        "id": "vQpmWbr3bKsp",
        "outputId": "f52e2586-0c67-4628-b53c-81ee6d9c91c4"
      },
      "execution_count": 36,
      "outputs": [
        {
          "output_type": "execute_result",
          "data": {
            "text/plain": [
              "(u + v)**2"
            ],
            "text/latex": "$\\displaystyle \\left(u + v\\right)^{2}$"
          },
          "metadata": {},
          "execution_count": 36
        }
      ]
    },
    {
      "cell_type": "code",
      "source": [
        "import sympy \n",
        "x = Symbol('x') \n",
        "y = Symbol('y') \n",
        "bieuthuc = x + y\n",
        "bieuthuc2 = x**2 + y**2 \n",
        "u = Symbol('u') \n",
        "v = Symbol('v')\n",
        "a = Symbol('a') \n",
        "from sympy import sin, cos \n",
        "bieuthuc_theo_uv = bieuthuc2.subs({x : a*sin(u), y : a*cos(u)}) \n",
        "bieuthuc_theo_uv"
      ],
      "metadata": {
        "colab": {
          "base_uri": "https://localhost:8080/",
          "height": 38
        },
        "id": "ewlhgeZ2bNbX",
        "outputId": "751f858c-8ebb-471a-da83-49bb24a204da"
      },
      "execution_count": 37,
      "outputs": [
        {
          "output_type": "execute_result",
          "data": {
            "text/plain": [
              "a**2*sin(u)**2 + a**2*cos(u)**2"
            ],
            "text/latex": "$\\displaystyle a^{2} \\sin^{2}{\\left(u \\right)} + a^{2} \\cos^{2}{\\left(u \\right)}$"
          },
          "metadata": {},
          "execution_count": 37
        }
      ]
    },
    {
      "cell_type": "code",
      "source": [
        "bieuthuc_theo_uv.simplify()"
      ],
      "metadata": {
        "colab": {
          "base_uri": "https://localhost:8080/",
          "height": 38
        },
        "id": "cKRW_rBWbPcJ",
        "outputId": "caae0322-d904-4f47-d00a-4a6c2ad9a5bc"
      },
      "execution_count": 38,
      "outputs": [
        {
          "output_type": "execute_result",
          "data": {
            "text/plain": [
              "a**2"
            ],
            "text/latex": "$\\displaystyle a^{2}$"
          },
          "metadata": {},
          "execution_count": 38
        }
      ]
    },
    {
      "cell_type": "markdown",
      "source": [
        "Thực hành 3"
      ],
      "metadata": {
        "id": "isBcV28bbQ-J"
      }
    },
    {
      "cell_type": "code",
      "source": [
        "danhsach_so = [10, 15, 20]\n",
        "danhsach_so[0]"
      ],
      "metadata": {
        "colab": {
          "base_uri": "https://localhost:8080/"
        },
        "id": "CQoIf7eAbRbi",
        "outputId": "3d9bd7c4-f26d-466c-9e35-c81f1c64ab2c"
      },
      "execution_count": 39,
      "outputs": [
        {
          "output_type": "execute_result",
          "data": {
            "text/plain": [
              "10"
            ]
          },
          "metadata": {},
          "execution_count": 39
        }
      ]
    },
    {
      "cell_type": "code",
      "source": [
        "danhsach_so[1]"
      ],
      "metadata": {
        "colab": {
          "base_uri": "https://localhost:8080/"
        },
        "id": "ElI3hBtYbTaB",
        "outputId": "925c5af8-6733-4b95-9424-c2845a23a1ec"
      },
      "execution_count": 40,
      "outputs": [
        {
          "output_type": "execute_result",
          "data": {
            "text/plain": [
              "15"
            ]
          },
          "metadata": {},
          "execution_count": 40
        }
      ]
    },
    {
      "cell_type": "code",
      "source": [
        "danhsach_so[2]"
      ],
      "metadata": {
        "colab": {
          "base_uri": "https://localhost:8080/"
        },
        "id": "dFzDnEeBbVra",
        "outputId": "bc9bb716-7168-4363-8b86-c9bea3a964c5"
      },
      "execution_count": 41,
      "outputs": [
        {
          "output_type": "execute_result",
          "data": {
            "text/plain": [
              "20"
            ]
          },
          "metadata": {},
          "execution_count": 41
        }
      ]
    },
    {
      "cell_type": "markdown",
      "source": [
        "Thực hành 4"
      ],
      "metadata": {
        "id": "C_dJl32YbXLL"
      }
    },
    {
      "cell_type": "code",
      "source": [
        "ds = [1, 2, 3] \n",
        "for so in ds:\n",
        "  print(so)"
      ],
      "metadata": {
        "colab": {
          "base_uri": "https://localhost:8080/"
        },
        "id": "M0iqvcp7bXt0",
        "outputId": "f4d65226-1aa1-41cd-cb51-f5ace95f3ecd"
      },
      "execution_count": 42,
      "outputs": [
        {
          "output_type": "stream",
          "name": "stdout",
          "text": [
            "1\n",
            "2\n",
            "3\n"
          ]
        }
      ]
    },
    {
      "cell_type": "code",
      "source": [
        "ds = [10, 11, 12] \n",
        "for chiso, giatri in enumerate(ds):\n",
        "  print(chiso, giatri)"
      ],
      "metadata": {
        "colab": {
          "base_uri": "https://localhost:8080/"
        },
        "id": "2C8rX5ApbacW",
        "outputId": "b2e3173c-914c-404e-ec17-5fa305a3f641"
      },
      "execution_count": 43,
      "outputs": [
        {
          "output_type": "stream",
          "name": "stdout",
          "text": [
            "0 10\n",
            "1 11\n",
            "2 12\n"
          ]
        }
      ]
    },
    {
      "cell_type": "markdown",
      "source": [
        "Thực hành 5"
      ],
      "metadata": {
        "id": "JsEy_xb7bb98"
      }
    },
    {
      "cell_type": "code",
      "source": [
        "x_numbers = [1, 6, 8]\n",
        "y_numbers = [2, 5, 9] \n",
        "from pylab import plot, show \n",
        "plot(x_numbers, y_numbers)"
      ],
      "metadata": {
        "colab": {
          "base_uri": "https://localhost:8080/",
          "height": 282
        },
        "id": "eyXsj4rmbdVu",
        "outputId": "1fb753bf-bb41-4e57-ad14-bad65f674f25"
      },
      "execution_count": 44,
      "outputs": [
        {
          "output_type": "execute_result",
          "data": {
            "text/plain": [
              "[<matplotlib.lines.Line2D at 0x7f17e6860f10>]"
            ]
          },
          "metadata": {},
          "execution_count": 44
        },
        {
          "output_type": "display_data",
          "data": {
            "text/plain": [
              "<Figure size 432x288 with 1 Axes>"
            ],
            "image/png": "[encoded data removed]"
          },
          "metadata": {
            "needs_background": "light"
          }
        }
      ]
    },
    {
      "cell_type": "markdown",
      "source": [
        "Thực hành 6"
      ],
      "metadata": {
        "id": "t2jG8YsubfK0"
      }
    },
    {
      "cell_type": "code",
      "source": [
        "plot(x_numbers, y_numbers, marker = 'o')"
      ],
      "metadata": {
        "colab": {
          "base_uri": "https://localhost:8080/",
          "height": 282
        },
        "id": "e_JWFeSUbfkV",
        "outputId": "c9dc9fa4-ab9f-4b16-9107-2d9b83d1594b"
      },
      "execution_count": 45,
      "outputs": [
        {
          "output_type": "execute_result",
          "data": {
            "text/plain": [
              "[<matplotlib.lines.Line2D at 0x7f17e67d9d50>]"
            ]
          },
          "metadata": {},
          "execution_count": 45
        },
        {
          "output_type": "display_data",
          "data": {
            "text/plain": [
              "<Figure size 432x288 with 1 Axes>"
            ],
            "image/png": "[encoded data removed]"
          },
          "metadata": {
            "needs_background": "light"
          }
        }
      ]
    },
    {
      "cell_type": "markdown",
      "source": [
        "Thực hành 7"
      ],
      "metadata": {
        "id": "5xCUPUOhbi3G"
      }
    },
    {
      "cell_type": "code",
      "source": [
        "hcm_rain = [13.8, 4.1, 10.5, 50.4, 218.4, 311.7, 293.7, 269.8, 327.1, 266.7, 116.5, 48.3] \n",
        "months = range(1, 13) \n",
        "plot(months, hcm_rain, marker = 'o')"
      ],
      "metadata": {
        "colab": {
          "base_uri": "https://localhost:8080/",
          "height": 282
        },
        "id": "hZaWHQg8bjTV",
        "outputId": "ff58e81a-ecbe-4798-d3d4-a3cdde2925c5"
      },
      "execution_count": 46,
      "outputs": [
        {
          "output_type": "execute_result",
          "data": {
            "text/plain": [
              "[<matplotlib.lines.Line2D at 0x7f17e675a550>]"
            ]
          },
          "metadata": {},
          "execution_count": 46
        },
        {
          "output_type": "display_data",
          "data": {
            "text/plain": [
              "<Figure size 432x288 with 1 Axes>"
            ],
            "image/png": "[encoded data removed]"
          },
          "metadata": {
            "needs_background": "light"
          }
        }
      ]
    },
    {
      "cell_type": "markdown",
      "source": [
        "Thực hành 8"
      ],
      "metadata": {
        "id": "76DGXqZPbmBY"
      }
    },
    {
      "cell_type": "code",
      "source": [
        "from sympy import Symbol, Derivative\n",
        "t = Symbol('t') \n",
        "st = 5*t**2 + 2*t + 8\n",
        "Derivative(st, t)"
      ],
      "metadata": {
        "colab": {
          "base_uri": "https://localhost:8080/",
          "height": 52
        },
        "id": "8K02GGV6bnMO",
        "outputId": "d7c4675d-8eef-4c4b-c8cc-f8cdd926dcb4"
      },
      "execution_count": 47,
      "outputs": [
        {
          "output_type": "execute_result",
          "data": {
            "text/plain": [
              "Derivative(5*t**2 + 2*t + 8, t)"
            ],
            "text/latex": "$\\displaystyle \\frac{d}{d t} \\left(5 t^{2} + 2 t + 8\\right)$"
          },
          "metadata": {},
          "execution_count": 47
        }
      ]
    },
    {
      "cell_type": "code",
      "source": [
        "d = Derivative(st, t)\n",
        "d.doit()"
      ],
      "metadata": {
        "colab": {
          "base_uri": "https://localhost:8080/",
          "height": 38
        },
        "id": "gs-NB-Frbo4V",
        "outputId": "ddff3665-dc5d-4211-e2bc-e59591ab5006"
      },
      "execution_count": 48,
      "outputs": [
        {
          "output_type": "execute_result",
          "data": {
            "text/plain": [
              "10*t + 2"
            ],
            "text/latex": "$\\displaystyle 10 t + 2$"
          },
          "metadata": {},
          "execution_count": 48
        }
      ]
    },
    {
      "cell_type": "code",
      "source": [
        "d.doit().subs({t:1})"
      ],
      "metadata": {
        "colab": {
          "base_uri": "https://localhost:8080/",
          "height": 37
        },
        "id": "yjRlWoqubq4u",
        "outputId": "61892ec3-ce60-43cd-c3f7-31afa34b6d5c"
      },
      "execution_count": 49,
      "outputs": [
        {
          "output_type": "execute_result",
          "data": {
            "text/plain": [
              "12"
            ],
            "text/latex": "$\\displaystyle 12$"
          },
          "metadata": {},
          "execution_count": 49
        }
      ]
    },
    {
      "cell_type": "code",
      "source": [
        "t1 = Symbol('t1')\n",
        "d.doit().subs({t:t1})"
      ],
      "metadata": {
        "colab": {
          "base_uri": "https://localhost:8080/",
          "height": 38
        },
        "id": "1t5_tsRlbsh1",
        "outputId": "a82f9380-6233-4fdf-d7ad-e8193e8cb9c2"
      },
      "execution_count": 50,
      "outputs": [
        {
          "output_type": "execute_result",
          "data": {
            "text/plain": [
              "10*t1 + 2"
            ],
            "text/latex": "$\\displaystyle 10 t_{1} + 2$"
          },
          "metadata": {},
          "execution_count": 50
        }
      ]
    },
    {
      "cell_type": "code",
      "source": [
        "t2 = 10 \n",
        "d.doit().subs({t:t2})"
      ],
      "metadata": {
        "colab": {
          "base_uri": "https://localhost:8080/",
          "height": 37
        },
        "id": "2__KgIEdbusB",
        "outputId": "a30740f3-13fe-4748-e332-7bc04422a3e0"
      },
      "execution_count": 51,
      "outputs": [
        {
          "output_type": "execute_result",
          "data": {
            "text/plain": [
              "102"
            ],
            "text/latex": "$\\displaystyle 102$"
          },
          "metadata": {},
          "execution_count": 51
        }
      ]
    },
    {
      "cell_type": "code",
      "source": [
        "from sympy import *\n",
        "a = -2*pi\n",
        "b = 2*pi  \n",
        "f = sin(x)\n",
        "sympy.plot(f, (x,a,b))"
      ],
      "metadata": {
        "colab": {
          "base_uri": "https://localhost:8080/",
          "height": 314
        },
        "id": "B-CGqS8LbyZp",
        "outputId": "cd62349f-7569-4dc2-c5c7-6d3effd0aac8"
      },
      "execution_count": 52,
      "outputs": [
        {
          "output_type": "display_data",
          "data": {
            "text/plain": [
              "<Figure size 432x288 with 1 Axes>"
            ],
            "image/png": "[encoded data removed]"
          },
          "metadata": {
            "needs_background": "light"
          }
        },
        {
          "output_type": "execute_result",
          "data": {
            "text/plain": [
              "<sympy.plotting.plot.Plot at 0x7f17e67274d0>"
            ]
          },
          "metadata": {},
          "execution_count": 52
        }
      ]
    },
    {
      "cell_type": "code",
      "source": [
        "f = abs(x)\n",
        "a = -2\n",
        "b = 2\n",
        "sympy.plot(f, (x,a,b))"
      ],
      "metadata": {
        "colab": {
          "base_uri": "https://localhost:8080/",
          "height": 313
        },
        "id": "QhXr2ni5b08S",
        "outputId": "a378392f-6299-481e-9c0a-71ff2cf93da0"
      },
      "execution_count": 53,
      "outputs": [
        {
          "output_type": "display_data",
          "data": {
            "text/plain": [
              "<Figure size 432x288 with 1 Axes>"
            ],
            "image/png": "[encoded data removed]"
          },
          "metadata": {
            "needs_background": "light"
          }
        },
        {
          "output_type": "execute_result",
          "data": {
            "text/plain": [
              "<sympy.plotting.plot.Plot at 0x7f17e66baf10>"
            ]
          },
          "metadata": {},
          "execution_count": 53
        }
      ]
    },
    {
      "cell_type": "markdown",
      "source": [
        "Thực hành 9"
      ],
      "metadata": {
        "id": "bwT6xhu7b22W"
      }
    },
    {
      "cell_type": "code",
      "source": [
        "from sympy import Derivative, Symbol \n",
        "x = Symbol('x')\n",
        "f = (x**3+x**2+x)*(x**2+x)\n",
        "Derivative(f, x).doit()\n",
        "(2*x + 1)*(x**3 + x**2 + x) + (x**2 + x)*(3*x**2 + 2*x + 1)"
      ],
      "metadata": {
        "colab": {
          "base_uri": "https://localhost:8080/",
          "height": 38
        },
        "id": "E9THyD_ib3RK",
        "outputId": "4649e448-91ea-45a3-8963-719930cdb2ae"
      },
      "execution_count": 54,
      "outputs": [
        {
          "output_type": "execute_result",
          "data": {
            "text/plain": [
              "(2*x + 1)*(x**3 + x**2 + x) + (x**2 + x)*(3*x**2 + 2*x + 1)"
            ],
            "text/latex": "$\\displaystyle \\left(2 x + 1\\right) \\left(x^{3} + x^{2} + x\\right) + \\left(x^{2} + x\\right) \\left(3 x^{2} + 2 x + 1\\right)$"
          },
          "metadata": {},
          "execution_count": 54
        }
      ]
    },
    {
      "cell_type": "code",
      "source": [
        "f = sympy.sin(2*x)\n",
        "Derivative(f, x).doit()"
      ],
      "metadata": {
        "colab": {
          "base_uri": "https://localhost:8080/",
          "height": 38
        },
        "id": "EIaa1dBPb58a",
        "outputId": "bbab1d7b-d7ac-4954-9df3-520dbdfdd0ab"
      },
      "execution_count": 55,
      "outputs": [
        {
          "output_type": "execute_result",
          "data": {
            "text/plain": [
              "2*cos(2*x)"
            ],
            "text/latex": "$\\displaystyle 2 \\cos{\\left(2 x \\right)}$"
          },
          "metadata": {},
          "execution_count": 55
        }
      ]
    },
    {
      "cell_type": "code",
      "source": [
        "f = sympy.sin(x)*sympy.cos(x)\n",
        "f = sympy.sin(x)*sympy.cos(x)"
      ],
      "metadata": {
        "id": "3Pd6ZZ5Ub7xD"
      },
      "execution_count": 56,
      "outputs": []
    },
    {
      "cell_type": "markdown",
      "source": [
        "Thực hành 11"
      ],
      "metadata": {
        "id": "z-fRwlRyb9gz"
      }
    },
    {
      "cell_type": "code",
      "source": [
        "from sympy import Symbol, solve, Derivative \n",
        "x = Symbol('x') \n",
        "f = x**5-30*x**3+50*x \n",
        "f"
      ],
      "metadata": {
        "colab": {
          "base_uri": "https://localhost:8080/",
          "height": 38
        },
        "id": "rSzdi1pjb92t",
        "outputId": "38e4adfc-13e3-47ea-dd75-db799681f427"
      },
      "execution_count": 57,
      "outputs": [
        {
          "output_type": "execute_result",
          "data": {
            "text/plain": [
              "x**5 - 30*x**3 + 50*x"
            ],
            "text/latex": "$\\displaystyle x^{5} - 30 x^{3} + 50 x$"
          },
          "metadata": {},
          "execution_count": 57
        }
      ]
    },
    {
      "cell_type": "code",
      "source": [
        "d1 = Derivative(f, x).doit() \n",
        "d1"
      ],
      "metadata": {
        "colab": {
          "base_uri": "https://localhost:8080/",
          "height": 38
        },
        "id": "csQua1n6cAcK",
        "outputId": "7cbb7ded-cfd6-480c-979f-300c0676bfd2"
      },
      "execution_count": 58,
      "outputs": [
        {
          "output_type": "execute_result",
          "data": {
            "text/plain": [
              "5*x**4 - 90*x**2 + 50"
            ],
            "text/latex": "$\\displaystyle 5 x^{4} - 90 x^{2} + 50$"
          },
          "metadata": {},
          "execution_count": 58
        }
      ]
    },
    {
      "cell_type": "code",
      "source": [
        "cuctri = solve(d1)\n",
        "cuctri"
      ],
      "metadata": {
        "colab": {
          "base_uri": "https://localhost:8080/"
        },
        "id": "sArWRfrrcCFZ",
        "outputId": "ea702143-d9c2-495a-d96e-02c5aef6bf95"
      },
      "execution_count": 59,
      "outputs": [
        {
          "output_type": "execute_result",
          "data": {
            "text/plain": [
              "[-sqrt(9 - sqrt(71)),\n",
              " sqrt(9 - sqrt(71)),\n",
              " -sqrt(sqrt(71) + 9),\n",
              " sqrt(sqrt(71) + 9)]"
            ]
          },
          "metadata": {},
          "execution_count": 59
        }
      ]
    },
    {
      "cell_type": "code",
      "source": [
        "A = cuctri[0] \n",
        "A"
      ],
      "metadata": {
        "colab": {
          "base_uri": "https://localhost:8080/",
          "height": 48
        },
        "id": "YAgN2kQscFNk",
        "outputId": "367a4ca0-0816-4f92-8d14-b93b74250c93"
      },
      "execution_count": 60,
      "outputs": [
        {
          "output_type": "execute_result",
          "data": {
            "text/plain": [
              "-sqrt(9 - sqrt(71))"
            ],
            "text/latex": "$\\displaystyle - \\sqrt{9 - \\sqrt{71}}$"
          },
          "metadata": {},
          "execution_count": 60
        }
      ]
    },
    {
      "cell_type": "code",
      "source": [
        "B = cuctri[2]\n",
        "B"
      ],
      "metadata": {
        "colab": {
          "base_uri": "https://localhost:8080/",
          "height": 48
        },
        "id": "qtqLXcHLcai2",
        "outputId": "8857fe77-5311-4882-c2e8-5a3b744239fc"
      },
      "execution_count": 64,
      "outputs": [
        {
          "output_type": "execute_result",
          "data": {
            "text/plain": [
              "-sqrt(sqrt(71) + 9)"
            ],
            "text/latex": "$\\displaystyle - \\sqrt{\\sqrt{71} + 9}$"
          },
          "metadata": {},
          "execution_count": 64
        }
      ]
    },
    {
      "cell_type": "code",
      "source": [
        "C = cuctri[0] \n",
        "C"
      ],
      "metadata": {
        "colab": {
          "base_uri": "https://localhost:8080/",
          "height": 48
        },
        "id": "5Y4rc-GTcHXr",
        "outputId": "fdec4920-a4b5-46cc-ff6a-5651c667aeac"
      },
      "execution_count": 61,
      "outputs": [
        {
          "output_type": "execute_result",
          "data": {
            "text/plain": [
              "-sqrt(9 - sqrt(71))"
            ],
            "text/latex": "$\\displaystyle - \\sqrt{9 - \\sqrt{71}}$"
          },
          "metadata": {},
          "execution_count": 61
        }
      ]
    },
    {
      "cell_type": "code",
      "source": [
        "D = cuctri[1] \n",
        "D"
      ],
      "metadata": {
        "colab": {
          "base_uri": "https://localhost:8080/",
          "height": 48
        },
        "id": "FRZd6jhZctYj",
        "outputId": "0e2bc705-d035-4d78-8d79-088c08f35374"
      },
      "execution_count": 72,
      "outputs": [
        {
          "output_type": "execute_result",
          "data": {
            "text/plain": [
              "sqrt(9 - sqrt(71))"
            ],
            "text/latex": "$\\displaystyle \\sqrt{9 - \\sqrt{71}}$"
          },
          "metadata": {},
          "execution_count": 72
        }
      ]
    },
    {
      "cell_type": "code",
      "source": [
        "E = cuctri[3] \n",
        "E"
      ],
      "metadata": {
        "colab": {
          "base_uri": "https://localhost:8080/",
          "height": 48
        },
        "id": "EMpT3yx1cNb-",
        "outputId": "919bdabd-f55b-4c08-824f-b8d831e79f4a"
      },
      "execution_count": 62,
      "outputs": [
        {
          "output_type": "execute_result",
          "data": {
            "text/plain": [
              "sqrt(sqrt(71) + 9)"
            ],
            "text/latex": "$\\displaystyle \\sqrt{\\sqrt{71} + 9}$"
          },
          "metadata": {},
          "execution_count": 62
        }
      ]
    },
    {
      "cell_type": "code",
      "source": [
        "d2 = Derivative(d1, x, 2).doit()\n",
        "d2.subs({x:B}).evalf()"
      ],
      "metadata": {
        "colab": {
          "base_uri": "https://localhost:8080/",
          "height": 37
        },
        "id": "QUGphYYGcPRH",
        "outputId": "d4cca650-e0a4-4cce-f39f-2c43cc212e2b"
      },
      "execution_count": 65,
      "outputs": [
        {
          "output_type": "execute_result",
          "data": {
            "text/plain": [
              "865.568986390581"
            ],
            "text/latex": "$\\displaystyle 865.568986390581$"
          },
          "metadata": {},
          "execution_count": 65
        }
      ]
    },
    {
      "cell_type": "code",
      "source": [
        "d2.subs({x:C}).evalf()"
      ],
      "metadata": {
        "colab": {
          "base_uri": "https://localhost:8080/",
          "height": 37
        },
        "id": "mIMgRELKceA2",
        "outputId": "6d0e482e-acd1-4ced-b695-7c34318d81f5"
      },
      "execution_count": 66,
      "outputs": [
        {
          "output_type": "execute_result",
          "data": {
            "text/plain": [
              "-145.568986390582"
            ],
            "text/latex": "$\\displaystyle -145.568986390582$"
          },
          "metadata": {},
          "execution_count": 66
        }
      ]
    },
    {
      "cell_type": "code",
      "source": [
        "d2.subs({x:A}).evalf()"
      ],
      "metadata": {
        "colab": {
          "base_uri": "https://localhost:8080/",
          "height": 37
        },
        "id": "upefnRxTcf_6",
        "outputId": "0290aa27-01bd-4c2c-afc1-1cf97275407e"
      },
      "execution_count": 67,
      "outputs": [
        {
          "output_type": "execute_result",
          "data": {
            "text/plain": [
              "-145.568986390582"
            ],
            "text/latex": "$\\displaystyle -145.568986390582$"
          },
          "metadata": {},
          "execution_count": 67
        }
      ]
    },
    {
      "cell_type": "code",
      "source": [
        "x_min = -5"
      ],
      "metadata": {
        "id": "TtJnS6N9cjez"
      },
      "execution_count": 68,
      "outputs": []
    },
    {
      "cell_type": "code",
      "source": [
        "x_max= 5"
      ],
      "metadata": {
        "id": "vhrE9VogclPd"
      },
      "execution_count": 69,
      "outputs": []
    },
    {
      "cell_type": "code",
      "source": [
        "f.subs({x:B}).evalf()"
      ],
      "metadata": {
        "colab": {
          "base_uri": "https://localhost:8080/",
          "height": 37
        },
        "id": "iKygMDKkcnVK",
        "outputId": "0baf8086-a909-4f2e-9c5f-59f04fddad4b"
      },
      "execution_count": 70,
      "outputs": [
        {
          "output_type": "execute_result",
          "data": {
            "text/plain": [
              "705.959460380365"
            ],
            "text/latex": "$\\displaystyle 705.959460380365$"
          },
          "metadata": {},
          "execution_count": 70
        }
      ]
    },
    {
      "cell_type": "code",
      "source": [
        "f.subs({x:D}).evalf()"
      ],
      "metadata": {
        "colab": {
          "base_uri": "https://localhost:8080/",
          "height": 37
        },
        "id": "CBhLhJvpcplr",
        "outputId": "6a353a78-6579-4986-9242-5392fef28be1"
      },
      "execution_count": 73,
      "outputs": [
        {
          "output_type": "execute_result",
          "data": {
            "text/plain": [
              "25.0846626340294"
            ],
            "text/latex": "$\\displaystyle 25.0846626340294$"
          },
          "metadata": {},
          "execution_count": 73
        }
      ]
    },
    {
      "cell_type": "code",
      "source": [
        "f.subs({x:x_min}).evalf()"
      ],
      "metadata": {
        "colab": {
          "base_uri": "https://localhost:8080/",
          "height": 37
        },
        "id": "LxFSeso6cyKR",
        "outputId": "b266691d-ac61-4c80-a8bf-fbe83f601e0d"
      },
      "execution_count": 74,
      "outputs": [
        {
          "output_type": "execute_result",
          "data": {
            "text/plain": [
              "375.000000000000"
            ],
            "text/latex": "$\\displaystyle 375.0$"
          },
          "metadata": {},
          "execution_count": 74
        }
      ]
    },
    {
      "cell_type": "code",
      "source": [
        "f.subs({x:x_max}).evalf()"
      ],
      "metadata": {
        "colab": {
          "base_uri": "https://localhost:8080/",
          "height": 37
        },
        "id": "EyKHUINoc0Mq",
        "outputId": "c8377e6d-8936-4e28-bd27-5356a51cb635"
      },
      "execution_count": 75,
      "outputs": [
        {
          "output_type": "execute_result",
          "data": {
            "text/plain": [
              "-375.000000000000"
            ],
            "text/latex": "$\\displaystyle -375.0$"
          },
          "metadata": {},
          "execution_count": 75
        }
      ]
    },
    {
      "cell_type": "code",
      "source": [
        "from pylab import plot, show\n",
        "from sympy import *\n",
        "f = x**5 - 30*x**3 + 50*x\n",
        "sympy.plot(f, (x, -5, 5))\n"
      ],
      "metadata": {
        "colab": {
          "base_uri": "https://localhost:8080/",
          "height": 314
        },
        "id": "q1NwO3rAc6z9",
        "outputId": "564863d7-1f48-4c46-daa2-93025700e3d8"
      },
      "execution_count": 77,
      "outputs": [
        {
          "output_type": "display_data",
          "data": {
            "text/plain": [
              "<Figure size 432x288 with 1 Axes>"
            ],
            "image/png": "[encoded data removed]"
          },
          "metadata": {
            "needs_background": "light"
          }
        },
        {
          "output_type": "execute_result",
          "data": {
            "text/plain": [
              "<sympy.plotting.plot.Plot at 0x7f17e657e790>"
            ]
          },
          "metadata": {},
          "execution_count": 77
        }
      ]
    },
    {
      "cell_type": "markdown",
      "source": [
        "Bài tập 1"
      ],
      "metadata": {
        "id": "EFK1s2RZc90y"
      }
    },
    {
      "cell_type": "code",
      "source": [
        "from pylab import plot, show \n",
        "tb_mua = [13.8, 4.1, 10.5, 50.4, 218.4, 311.7, 293.7, 269.8, 327.1, 266.7, 116.5, 48.3] \n",
        "months = range(1, 13) \n",
        "plot(months, tb_mua, marker = 'o')"
      ],
      "metadata": {
        "colab": {
          "base_uri": "https://localhost:8080/",
          "height": 282
        },
        "id": "xWPHlb4wc-NJ",
        "outputId": "6b42a953-541f-4d70-8ed9-31c343f42277"
      },
      "execution_count": 78,
      "outputs": [
        {
          "output_type": "execute_result",
          "data": {
            "text/plain": [
              "[<matplotlib.lines.Line2D at 0x7f17e65208d0>]"
            ]
          },
          "metadata": {},
          "execution_count": 78
        },
        {
          "output_type": "display_data",
          "data": {
            "text/plain": [
              "<Figure size 432x288 with 1 Axes>"
            ],
            "image/png": "[encoded data removed]"
          },
          "metadata": {
            "needs_background": "light"
          }
        }
      ]
    },
    {
      "cell_type": "code",
      "source": [
        "from pylab import plot, show \n",
        "tb_nang = [12.8, 4.1, 10.5, 50.4, 268.4, 301.7, 234, 269.8, 353.1, 266.7, 176.5, 4348.3] \n",
        "months = range(1, 13) \n",
        "plot(months, tb_nang, marker = 'o')"
      ],
      "metadata": {
        "colab": {
          "base_uri": "https://localhost:8080/",
          "height": 282
        },
        "id": "FLnW-LzYdEjS",
        "outputId": "695959a5-5d84-4947-e2c8-ce0b27fa8659"
      },
      "execution_count": 79,
      "outputs": [
        {
          "output_type": "execute_result",
          "data": {
            "text/plain": [
              "[<matplotlib.lines.Line2D at 0x7f17e8b09cd0>]"
            ]
          },
          "metadata": {},
          "execution_count": 79
        },
        {
          "output_type": "display_data",
          "data": {
            "text/plain": [
              "<Figure size 432x288 with 1 Axes>"
            ],
            "image/png": "[encoded data removed]"
          },
          "metadata": {
            "needs_background": "light"
          }
        }
      ]
    },
    {
      "cell_type": "markdown",
      "source": [
        "bài tập 2"
      ],
      "metadata": {
        "id": "QyHKHyK9dHAm"
      }
    },
    {
      "cell_type": "code",
      "source": [
        "from sympy import Derivative, Symbol, sin, cos\n",
        "import sympy\n",
        "x = sympy.Symbol(\"x\")\n",
        "f = sympy.sin(2*x)\n",
        "Derivative(f,x).doit()"
      ],
      "metadata": {
        "colab": {
          "base_uri": "https://localhost:8080/",
          "height": 38
        },
        "id": "3BD62YJ7dHWO",
        "outputId": "cc0764b8-5de9-41f1-9c66-a3a8cfb5f142"
      },
      "execution_count": 80,
      "outputs": [
        {
          "output_type": "execute_result",
          "data": {
            "text/plain": [
              "2*cos(2*x)"
            ],
            "text/latex": "$\\displaystyle 2 \\cos{\\left(2 x \\right)}$"
          },
          "metadata": {},
          "execution_count": 80
        }
      ]
    },
    {
      "cell_type": "code",
      "source": [
        "f = (x**2 + x + 9)/(x-1)\n",
        "f\n",
        " \n",
        "d = Derivative(f,x).doit()\n",
        "d"
      ],
      "metadata": {
        "colab": {
          "base_uri": "https://localhost:8080/",
          "height": 61
        },
        "id": "HPdLYWfJdNl7",
        "outputId": "880fb6a1-97d2-494e-bf70-1591c48bac37"
      },
      "execution_count": 101,
      "outputs": [
        {
          "output_type": "execute_result",
          "data": {
            "text/plain": [
              "(2*x + 1)/(x - 1) - (x**2 + x + 9)/(x - 1)**2"
            ],
            "text/latex": "$\\displaystyle \\frac{2 x + 1}{x - 1} - \\frac{x^{2} + x + 9}{\\left(x - 1\\right)^{2}}$"
          },
          "metadata": {},
          "execution_count": 101
        }
      ]
    },
    {
      "cell_type": "code",
      "source": [
        "f = sin(2*x)*cos(x)**8-cot(1/x**2)-sin(276576*x)*sin(x)**56756\n",
        "f\n",
        " \n",
        "d = Derivative(f,x).doit()\n",
        "d"
      ],
      "metadata": {
        "colab": {
          "base_uri": "https://localhost:8080/",
          "height": 77
        },
        "id": "cRdEG060dP1t",
        "outputId": "8ee1d099-720d-4b9b-89e1-5df0c1a0948b"
      },
      "execution_count": 102,
      "outputs": [
        {
          "output_type": "execute_result",
          "data": {
            "text/plain": [
              "-276576*sin(x)**56756*cos(276576*x) - 56756*sin(x)**56755*sin(276576*x)*cos(x) - 8*sin(x)*sin(2*x)*cos(x)**7 + 2*cos(x)**8*cos(2*x) + 2*(-cot(x**(-2))**2 - 1)/x**3"
            ],
            "text/latex": "$\\displaystyle - 276576 \\sin^{56756}{\\left(x \\right)} \\cos{\\left(276576 x \\right)} - 56756 \\sin^{56755}{\\left(x \\right)} \\sin{\\left(276576 x \\right)} \\cos{\\left(x \\right)} - 8 \\sin{\\left(x \\right)} \\sin{\\left(2 x \\right)} \\cos^{7}{\\left(x \\right)} + 2 \\cos^{8}{\\left(x \\right)} \\cos{\\left(2 x \\right)} + \\frac{2 \\left(- \\cot^{2}{\\left(\\frac{1}{x^{2}} \\right)} - 1\\right)}{x^{3}}$"
          },
          "metadata": {},
          "execution_count": 102
        }
      ]
    },
    {
      "cell_type": "code",
      "source": [
        "f = cos(2*x)+cos(4*x)+cos(5*x)\n",
        "f\n",
        "d= Derivative(f,x).doit()\n",
        "d"
      ],
      "metadata": {
        "colab": {
          "base_uri": "https://localhost:8080/",
          "height": 38
        },
        "id": "bWdXotwsdSVR",
        "outputId": "1140003a-ae17-4228-969f-f6efb936ab23"
      },
      "execution_count": 103,
      "outputs": [
        {
          "output_type": "execute_result",
          "data": {
            "text/plain": [
              "-2*sin(2*x) - 4*sin(4*x) - 5*sin(5*x)"
            ],
            "text/latex": "$\\displaystyle - 2 \\sin{\\left(2 x \\right)} - 4 \\sin{\\left(4 x \\right)} - 5 \\sin{\\left(5 x \\right)}$"
          },
          "metadata": {},
          "execution_count": 103
        }
      ]
    },
    {
      "cell_type": "code",
      "source": [
        "f = sqrt(sin(x))\n",
        "f\n",
        "d = Derivative(f,x).doit()\n",
        "d"
      ],
      "metadata": {
        "colab": {
          "base_uri": "https://localhost:8080/",
          "height": 60
        },
        "id": "mxkwREE0dUgh",
        "outputId": "369944e0-2a35-4612-b363-259f21f8c48d"
      },
      "execution_count": 104,
      "outputs": [
        {
          "output_type": "execute_result",
          "data": {
            "text/plain": [
              "cos(x)/(2*sqrt(sin(x)))"
            ],
            "text/latex": "$\\displaystyle \\frac{\\cos{\\left(x \\right)}}{2 \\sqrt{\\sin{\\left(x \\right)}}}$"
          },
          "metadata": {},
          "execution_count": 104
        }
      ]
    },
    {
      "cell_type": "code",
      "source": [
        "f = cos(5*x)-3*x+9\n",
        "f\n",
        "d = Derivative(f,x).doit()\n",
        "d"
      ],
      "metadata": {
        "colab": {
          "base_uri": "https://localhost:8080/",
          "height": 38
        },
        "id": "ibVurUrXdWfB",
        "outputId": "51db64d4-2317-4578-9ca9-9511bd8fd7f0"
      },
      "execution_count": 105,
      "outputs": [
        {
          "output_type": "execute_result",
          "data": {
            "text/plain": [
              "-5*sin(5*x) - 3"
            ],
            "text/latex": "$\\displaystyle - 5 \\sin{\\left(5 x \\right)} - 3$"
          },
          "metadata": {},
          "execution_count": 105
        }
      ]
    },
    {
      "cell_type": "code",
      "source": [
        "f = x**9 + 6*sqrt(x)\n",
        "f\n",
        "d = Derivative(f,x).doit()\n",
        "d"
      ],
      "metadata": {
        "colab": {
          "base_uri": "https://localhost:8080/",
          "height": 55
        },
        "id": "e1-IFlqtdYLr",
        "outputId": "187b464c-54d8-4449-858b-fc0a24bb43fd"
      },
      "execution_count": 106,
      "outputs": [
        {
          "output_type": "execute_result",
          "data": {
            "text/plain": [
              "9*x**8 + 3/sqrt(x)"
            ],
            "text/latex": "$\\displaystyle 9 x^{8} + \\frac{3}{\\sqrt{x}}$"
          },
          "metadata": {},
          "execution_count": 106
        }
      ]
    },
    {
      "cell_type": "code",
      "source": [
        "f = sin(x)-9*x+4\n",
        "f\n",
        "d = Derivative(f,x).doit()\n",
        "d"
      ],
      "metadata": {
        "colab": {
          "base_uri": "https://localhost:8080/",
          "height": 38
        },
        "id": "aQrATrVFeQoi",
        "outputId": "8d3d387b-75a5-43b4-e56f-053fa84419aa"
      },
      "execution_count": 107,
      "outputs": [
        {
          "output_type": "execute_result",
          "data": {
            "text/plain": [
              "cos(x) - 9"
            ],
            "text/latex": "$\\displaystyle \\cos{\\left(x \\right)} - 9$"
          },
          "metadata": {},
          "execution_count": 107
        }
      ]
    },
    {
      "cell_type": "code",
      "source": [
        "f = sin(x)-9*x+4 / sin(x)-9*x+9\n",
        "f\n",
        "d = Derivative(f,x).doit()\n",
        "d"
      ],
      "metadata": {
        "colab": {
          "base_uri": "https://localhost:8080/",
          "height": 58
        },
        "id": "VWxQxjukerTz",
        "outputId": "227b9f47-662f-4beb-b4dd-6f28b691817c"
      },
      "execution_count": 110,
      "outputs": [
        {
          "output_type": "execute_result",
          "data": {
            "text/plain": [
              "cos(x) - 18 - 4*cos(x)/sin(x)**2"
            ],
            "text/latex": "$\\displaystyle \\cos{\\left(x \\right)} - 18 - \\frac{4 \\cos{\\left(x \\right)}}{\\sin^{2}{\\left(x \\right)}}$"
          },
          "metadata": {},
          "execution_count": 110
        }
      ]
    },
    {
      "cell_type": "code",
      "source": [
        "f = x**4 + 2*sqrt(x) + 9*sqrt(x)\n",
        "f\n",
        "d = Derivative(f,x).doit()\n",
        "d"
      ],
      "metadata": {
        "colab": {
          "base_uri": "https://localhost:8080/",
          "height": 55
        },
        "id": "tNbdBOEqeg6W",
        "outputId": "7e6747bf-3c39-4bd0-e988-e52a3a60d43b"
      },
      "execution_count": 108,
      "outputs": [
        {
          "output_type": "execute_result",
          "data": {
            "text/plain": [
              "4*x**3 + 11/(2*sqrt(x))"
            ],
            "text/latex": "$\\displaystyle 4 x^{3} + \\frac{11}{2 \\sqrt{x}}$"
          },
          "metadata": {},
          "execution_count": 108
        }
      ]
    }
  ]
}