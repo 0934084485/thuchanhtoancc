{
  "nbformat": 4,
  "nbformat_minor": 0,
  "metadata": {
    "colab": {
      "name": "Week1.ipynb",
      "provenance": [],
      "collapsed_sections": [],
      "authorship_tag": "ABX9TyPapddsCjUsOh6DcF2WmtyG",
      "include_colab_link": true
    },
    "kernelspec": {
      "name": "python3",
      "display_name": "Python 3"
    },
    "language_info": {
      "name": "python"
    }
  },
  "cells": [
    {
      "cell_type": "markdown",
      "metadata": {
        "id": "view-in-github",
        "colab_type": "text"
      },
      "source": [
        "<a href=\"https://colab.research.google.com/github/0934084485/thuchanhtoancc/blob/main/Week1.ipynb\" target=\"_parent\"><img src=\"https://colab.research.google.com/assets/colab-badge.svg\" alt=\"Open In Colab\"/></a>"
      ]
    },
    {
      "cell_type": "markdown",
      "source": [
        "Chương 1"
      ],
      "metadata": {
        "id": "z2oLGkXI5-u2"
      }
    },
    {
      "cell_type": "markdown",
      "source": [
        "Thực hành 1"
      ],
      "metadata": {
        "id": "GDGq3a5mHwbG"
      }
    },
    {
      "cell_type": "code",
      "source": [
        "blocks = 10000 \n",
        "dayS = [1/2**n for n in range(0, blocks)] \n",
        "tongS = sum(dayS) \n",
        "print (tongS) "
      ],
      "metadata": {
        "colab": {
          "base_uri": "https://localhost:8080/"
        },
        "id": "17q2B7vt4t0d",
        "outputId": "0d591cab-56a0-4925-d5fe-c67070e1c560"
      },
      "execution_count": 200,
      "outputs": [
        {
          "output_type": "stream",
          "name": "stdout",
          "text": [
            "2.0\n"
          ]
        }
      ]
    },
    {
      "cell_type": "markdown",
      "source": [
        "Thực hành 2"
      ],
      "metadata": {
        "id": "C3Oz5cKz4-qs"
      }
    },
    {
      "cell_type": "code",
      "source": [
        "n = 1000 \n",
        "X = [2*k/n for k in range(0, n+1)] \n",
        "S = 0\n",
        "for k in range(1, n+1): \n",
        "  S = S + X[k]**2 * (X[k] - X[k-1])\n",
        "print (S)  "
      ],
      "metadata": {
        "colab": {
          "base_uri": "https://localhost:8080/"
        },
        "id": "JvWsR9LG5twq",
        "outputId": "9cdf7ca3-c8a4-4e2d-d543-995c63af090e"
      },
      "execution_count": 201,
      "outputs": [
        {
          "output_type": "stream",
          "name": "stdout",
          "text": [
            "2.6706680000000027\n"
          ]
        }
      ]
    },
    {
      "cell_type": "markdown",
      "source": [
        "Thực hành 3"
      ],
      "metadata": {
        "id": "V6OSHNLM6ByA"
      }
    },
    {
      "cell_type": "code",
      "source": [
        "from sympy import *\n",
        "a = Rational(1,2)\n",
        "b = Rational(1,3)\n",
        "print(a + b)\n",
        "print(a + 1)\n",
        "print(b + 1 + 1.5)"
      ],
      "metadata": {
        "colab": {
          "base_uri": "https://localhost:8080/"
        },
        "id": "LnusUbSO6EGI",
        "outputId": "d7ac7beb-b777-4126-985c-671e6a016502"
      },
      "execution_count": 202,
      "outputs": [
        {
          "output_type": "stream",
          "name": "stdout",
          "text": [
            "5/6\n",
            "3/2\n",
            "2.83333333333333\n"
          ]
        }
      ]
    },
    {
      "cell_type": "code",
      "source": [
        "Rational(1,2) + Rational(1,3)"
      ],
      "metadata": {
        "id": "idqVsePj5xos",
        "colab": {
          "base_uri": "https://localhost:8080/",
          "height": 51
        },
        "outputId": "2071fe5b-17dd-49c9-ccf6-d5ac4b83f1c5"
      },
      "execution_count": 203,
      "outputs": [
        {
          "output_type": "execute_result",
          "data": {
            "text/latex": "$\\displaystyle \\frac{5}{6}$",
            "text/plain": [
              "5/6"
            ]
          },
          "metadata": {},
          "execution_count": 203
        }
      ]
    },
    {
      "cell_type": "markdown",
      "source": [
        "Thực hành 4"
      ],
      "metadata": {
        "id": "1hrueJcF6eXw"
      }
    },
    {
      "cell_type": "code",
      "source": [
        "from sympy import *\n",
        "x = Symbol(\"x\")\n",
        "y = Symbol(\"y\")\n",
        "a = x+y+x-y\n",
        "b = (x+y)**2\n",
        "print(a,\"\\n\",b)"
      ],
      "metadata": {
        "colab": {
          "base_uri": "https://localhost:8080/"
        },
        "id": "cQ9Bztoy6gPY",
        "outputId": "7167244e-d2c8-455c-e133-b31350abd62c"
      },
      "execution_count": 204,
      "outputs": [
        {
          "output_type": "stream",
          "name": "stdout",
          "text": [
            "2*x \n",
            " (x + y)**2\n"
          ]
        }
      ]
    },
    {
      "cell_type": "markdown",
      "source": [
        "Thực hành 5a"
      ],
      "metadata": {
        "id": "tFOjgT-M7T49"
      }
    },
    {
      "cell_type": "code",
      "source": [
        "from sympy.solvers.solvers import denoms\n",
        "from sympy import *\n",
        "x = Symbol(\"x\")\n",
        "a = (1/x)*1/(x-3)\n",
        "b = denoms(a)\n",
        "print(b)"
      ],
      "metadata": {
        "colab": {
          "base_uri": "https://localhost:8080/"
        },
        "id": "NbolAYpn7VnQ",
        "outputId": "7c6167ad-fd6c-4a8d-e456-621799485199"
      },
      "execution_count": 205,
      "outputs": [
        {
          "output_type": "stream",
          "name": "stdout",
          "text": [
            "{x - 3, x}\n"
          ]
        }
      ]
    },
    {
      "cell_type": "markdown",
      "source": [
        "Thực hành 5b"
      ],
      "metadata": {
        "id": "UUeojF8C7cl7"
      }
    },
    {
      "cell_type": "code",
      "source": [
        "eq = (1+1/x)/(x-1)\n",
        "from sympy.solvers.solvers import denoms\n",
        "loai_tru = set()\n",
        "for d in denoms(eq):\n",
        "  for s in solve(d):\n",
        "    loai_tru.add(s)\n",
        "print(loai_tru)"
      ],
      "metadata": {
        "colab": {
          "base_uri": "https://localhost:8080/"
        },
        "id": "duKi1FDt7gJc",
        "outputId": "2da02af8-371c-45cc-d77d-c4fbb4aaf6c3"
      },
      "execution_count": 206,
      "outputs": [
        {
          "output_type": "stream",
          "name": "stdout",
          "text": [
            "{0, 1}\n"
          ]
        }
      ]
    },
    {
      "cell_type": "markdown",
      "source": [
        "Thực hành 6a"
      ],
      "metadata": {
        "id": "98vMZ4GE7tgo"
      }
    },
    {
      "cell_type": "code",
      "source": [
        "from sympy import Symbol \n",
        "x = Symbol('x',positive = True) \n",
        "if (x+3) > 0:\n",
        "  print(\"chắc chắn x+3 dương\")\n",
        "else:\n",
        "  print(\"x+3 chưa chắc là số dương\")"
      ],
      "metadata": {
        "colab": {
          "base_uri": "https://localhost:8080/"
        },
        "id": "LK6IHf1r72lM",
        "outputId": "10944ffe-b23b-4a7c-b504-f78255466079"
      },
      "execution_count": 207,
      "outputs": [
        {
          "output_type": "stream",
          "name": "stdout",
          "text": [
            "chắc chắn x+3 dương\n"
          ]
        }
      ]
    },
    {
      "cell_type": "code",
      "source": [
        "from sympy import Symbol\n",
        "goc_theta = Symbol(\"theta\")\n",
        "import math\n",
        "sympy.sin(goc_theta) + sympy.sin(goc_theta)\n"
      ],
      "metadata": {
        "id": "hd5Swz3q91gM",
        "colab": {
          "base_uri": "https://localhost:8080/",
          "height": 39
        },
        "outputId": "22f6a581-bc59-4676-dcfe-84f74f76ffec"
      },
      "execution_count": 208,
      "outputs": [
        {
          "output_type": "execute_result",
          "data": {
            "text/latex": "$\\displaystyle 2 \\sin{\\left(\\theta \\right)}$",
            "text/plain": [
              "2*sin(theta)"
            ]
          },
          "metadata": {},
          "execution_count": 208
        }
      ]
    },
    {
      "cell_type": "markdown",
      "source": [
        "Thực hành 8"
      ],
      "metadata": {
        "id": "5sT-6WfO55yT"
      }
    },
    {
      "cell_type": "code",
      "source": [
        "from sympy import sin, solve, Symbol\n",
        "u = Symbol('u')\n",
        "t = Symbol('t')\n",
        "g = Symbol('g')\n",
        "theta = Symbol('theta')\n",
        "solve(u*sin(theta)- g*t, t)"
      ],
      "metadata": {
        "colab": {
          "base_uri": "https://localhost:8080/"
        },
        "id": "KfwT-5e657a8",
        "outputId": "dd25885b-5833-45ea-a50a-5001315cd2a4"
      },
      "execution_count": 209,
      "outputs": [
        {
          "output_type": "execute_result",
          "data": {
            "text/plain": [
              "[u*sin(theta)/g]"
            ]
          },
          "metadata": {},
          "execution_count": 209
        }
      ]
    },
    {
      "cell_type": "markdown",
      "source": [
        "Thực hành 9"
      ],
      "metadata": {
        "id": "Tm4e9kKu5-gD"
      }
    },
    {
      "cell_type": "code",
      "source": [
        "from sympy import Limit, Symbol, S\n",
        "x = Symbol('x')\n",
        "Limit (1/x,x,S.Infinity)"
      ],
      "metadata": {
        "colab": {
          "base_uri": "https://localhost:8080/",
          "height": 51
        },
        "id": "y1_d_bwL6ANk",
        "outputId": "ad8e5bfb-a39f-4dc9-e707-2bea5f2f2a64"
      },
      "execution_count": 210,
      "outputs": [
        {
          "output_type": "execute_result",
          "data": {
            "text/latex": "$\\displaystyle \\lim_{x \\to \\infty} \\frac{1}{x}$",
            "text/plain": [
              "Limit(1/x, x, oo, dir='-')"
            ]
          },
          "metadata": {},
          "execution_count": 210
        }
      ]
    },
    {
      "cell_type": "markdown",
      "source": [
        "Thực hành 10a"
      ],
      "metadata": {
        "id": "MugXalXm6FKC"
      }
    },
    {
      "cell_type": "code",
      "source": [
        "from sympy import Limit\n",
        "a = Limit(1/x, x, 0, dir='-').doit()\n",
        "b = Limit(1/x, x, 0, dir='+').doit()\n",
        "print(a)\n",
        "print(b)"
      ],
      "metadata": {
        "colab": {
          "base_uri": "https://localhost:8080/"
        },
        "id": "kxJZLWlo6IFb",
        "outputId": "c57938b8-4d5b-4a30-cb0b-36733288bd98"
      },
      "execution_count": 211,
      "outputs": [
        {
          "output_type": "stream",
          "name": "stdout",
          "text": [
            "-oo\n",
            "oo\n"
          ]
        }
      ]
    },
    {
      "cell_type": "markdown",
      "source": [
        "Thực hành 10b"
      ],
      "metadata": {
        "id": "wIokgRxA6Ja-"
      }
    },
    {
      "cell_type": "code",
      "source": [
        "from sympy import Symbol, sin\n",
        "Limit(sin(x)/x,x,0).doit()"
      ],
      "metadata": {
        "colab": {
          "base_uri": "https://localhost:8080/",
          "height": 38
        },
        "id": "1IwH9Lie6K-z",
        "outputId": "a5451a1b-44ad-4dbf-c9a1-e609aa6854db"
      },
      "execution_count": 212,
      "outputs": [
        {
          "output_type": "execute_result",
          "data": {
            "text/latex": "$\\displaystyle 1$",
            "text/plain": [
              "1"
            ]
          },
          "metadata": {},
          "execution_count": 212
        }
      ]
    },
    {
      "cell_type": "markdown",
      "source": [
        "Thực hành 11"
      ],
      "metadata": {
        "id": "w-UP-J9t6p0F"
      }
    },
    {
      "cell_type": "code",
      "source": [
        "from sympy import limit, sin, S\n",
        "limit(x*sin(1/x), x, S.Infinity) "
      ],
      "metadata": {
        "colab": {
          "base_uri": "https://localhost:8080/",
          "height": 38
        },
        "id": "ghtTqkce6rId",
        "outputId": "638ff19c-b429-403c-b8c3-b0f0bf6bd494"
      },
      "execution_count": 213,
      "outputs": [
        {
          "output_type": "execute_result",
          "data": {
            "text/latex": "$\\displaystyle 1$",
            "text/plain": [
              "1"
            ]
          },
          "metadata": {},
          "execution_count": 213
        }
      ]
    },
    {
      "cell_type": "markdown",
      "source": [
        "Thực hành 12"
      ],
      "metadata": {
        "id": "4t_n4bFHWFuZ"
      }
    },
    {
      "cell_type": "code",
      "source": [
        "from sympy import Limit, Symbol, S\n",
        "n = Symbol('n')\n",
        "p = Symbol('p',positive = True)\n",
        "r = Symbol('r',positive = True)\n",
        "t = Symbol('t',positive = True)\n",
        "Limit(p*(1+r/n)**(n*t),n,S.Infinity).doit()"
      ],
      "metadata": {
        "colab": {
          "base_uri": "https://localhost:8080/",
          "height": 39
        },
        "id": "bWyoFdRG7wh4",
        "outputId": "b0169321-ca76-44dc-80b0-2f25b6162415"
      },
      "execution_count": 214,
      "outputs": [
        {
          "output_type": "execute_result",
          "data": {
            "text/latex": "$\\displaystyle p e^{r t}$",
            "text/plain": [
              "p*exp(r*t)"
            ]
          },
          "metadata": {},
          "execution_count": 214
        }
      ]
    },
    {
      "cell_type": "markdown",
      "source": [
        "Thực hành 13"
      ],
      "metadata": {
        "id": "GlT56l1V7zKw"
      }
    },
    {
      "cell_type": "code",
      "source": [
        "from sympy import Symbol, Limit\n",
        "t = Symbol ('t')\n",
        "St = 5*t**2 + 2*t + 8\n",
        "\n",
        "t1 = Symbol ('t1')\n",
        "delta_t = Symbol ('delta_t')\n",
        "\n",
        "St1 = St.subs({t: t1})\n",
        "St1_delta = St.subs({t: t1 + delta_t})\n",
        "Limit((St1_delta - St1) / delta_t, delta_t, 0).doit()"
      ],
      "metadata": {
        "colab": {
          "base_uri": "https://localhost:8080/",
          "height": 39
        },
        "id": "eKPk7Al072Ml",
        "outputId": "8b794d9b-0116-40e6-b3e8-ef94cf47df64"
      },
      "execution_count": 215,
      "outputs": [
        {
          "output_type": "execute_result",
          "data": {
            "text/latex": "$\\displaystyle 10 t_{1} + 2$",
            "text/plain": [
              "10*t1 + 2"
            ]
          },
          "metadata": {},
          "execution_count": 215
        }
      ]
    },
    {
      "cell_type": "markdown",
      "source": [
        "bài tập 1"
      ],
      "metadata": {
        "id": "jUgf5wSeCOVL"
      }
    },
    {
      "cell_type": "code",
      "source": [
        "a = 3.1\n",
        "b = 3.0\n",
        "i = -1\n",
        "while (a != b):\n",
        "  print(a, \" != \", b)\n",
        "  a_new = a - 0.9 * 10 **(i)\n",
        "  if (a_new != a):\n",
        "    a = a_new\n",
        "    i = i - 1\n",
        "  else:\n",
        "    print(i)\n",
        "    a = b"
      ],
      "metadata": {
        "colab": {
          "base_uri": "https://localhost:8080/"
        },
        "id": "N8JEiaIhCTgP",
        "outputId": "5bb94669-14d8-4584-e3ff-a673c6347b10"
      },
      "execution_count": 216,
      "outputs": [
        {
          "output_type": "stream",
          "name": "stdout",
          "text": [
            "3.1  !=  3.0\n",
            "3.0100000000000002  !=  3.0\n",
            "3.0010000000000003  !=  3.0\n",
            "3.0001  !=  3.0\n",
            "3.00001  !=  3.0\n",
            "3.000001  !=  3.0\n",
            "3.0000001000000003  !=  3.0\n",
            "3.0000000100000004  !=  3.0\n",
            "3.0000000010000005  !=  3.0\n",
            "3.0000000001000005  !=  3.0\n",
            "3.0000000000100004  !=  3.0\n",
            "3.0000000000010005  !=  3.0\n",
            "3.0000000000001004  !=  3.0\n",
            "3.00000000000001  !=  3.0\n",
            "3.0000000000000013  !=  3.0\n",
            "3.0000000000000004  !=  3.0\n",
            "-16\n"
          ]
        }
      ]
    },
    {
      "cell_type": "markdown",
      "source": [
        "bài tập 2"
      ],
      "metadata": {
        "id": "BcqwpOKqGOLR"
      }
    },
    {
      "cell_type": "code",
      "source": [
        "a = True\n",
        "b = False\n",
        "if (a==b) and (1/0 >0):\n",
        "  print(\"a = b\")\n",
        "else:\n",
        "  print(\"a khác b\")"
      ],
      "metadata": {
        "colab": {
          "base_uri": "https://localhost:8080/"
        },
        "id": "EkzDQLt8GPeB",
        "outputId": "3c9093d6-f988-4857-8f88-80db7a67aa8a"
      },
      "execution_count": 217,
      "outputs": [
        {
          "output_type": "stream",
          "name": "stdout",
          "text": [
            "a khác b\n"
          ]
        }
      ]
    },
    {
      "cell_type": "markdown",
      "source": [
        "Chương 2"
      ],
      "metadata": {
        "id": "EYIQiSxw6FSN"
      }
    },
    {
      "cell_type": "markdown",
      "source": [
        "Thực hành 1"
      ],
      "metadata": {
        "id": "px4WxLnd6Zmi"
      }
    },
    {
      "cell_type": "code",
      "source": [
        "chuoitinhtoan = \"a*b+c\" \n",
        "a = 2\n",
        "b = 5 \n",
        "c = 8   \n",
        "eval(chuoitinhtoan)"
      ],
      "metadata": {
        "id": "tVVY52-86LUc",
        "outputId": "a45298a5-d5c0-4fe0-b21c-aa8b01b39dc2",
        "colab": {
          "base_uri": "https://localhost:8080/"
        }
      },
      "execution_count": 218,
      "outputs": [
        {
          "output_type": "execute_result",
          "data": {
            "text/plain": [
              "18"
            ]
          },
          "metadata": {},
          "execution_count": 218
        }
      ]
    },
    {
      "cell_type": "markdown",
      "source": [
        "Thực hành 2"
      ],
      "metadata": {
        "id": "AvVqRXbd6i4_"
      }
    },
    {
      "cell_type": "code",
      "source": [
        "from sympy import Symbol \n",
        "x = Symbol('x') \n",
        "y = Symbol('y') \n",
        "bieuthuc = x+y \n",
        "thaytheso = bieuthuc.subs({x:10, y:5}) \n",
        "thaytheso\n",
        " "
      ],
      "metadata": {
        "id": "fr90ndYe6lSN",
        "outputId": "0eb95219-9411-43d0-fe57-4f8b0e81a1b7",
        "colab": {
          "base_uri": "https://localhost:8080/",
          "height": 38
        }
      },
      "execution_count": 219,
      "outputs": [
        {
          "output_type": "execute_result",
          "data": {
            "text/latex": "$\\displaystyle 15$",
            "text/plain": [
              "15"
            ]
          },
          "metadata": {},
          "execution_count": 219
        }
      ]
    },
    {
      "cell_type": "code",
      "source": [
        "u = Symbol('u')\n",
        "v = Symbol('v')\n",
        "bieuthuc_theo_uv = bieuthuc.subs({x:u, y:v}) \n",
        "bieuthuc_theo_uv"
      ],
      "metadata": {
        "id": "dHB9ZU329694",
        "outputId": "0e4b49d3-c7d0-4c3a-be09-db70f6d146b1",
        "colab": {
          "base_uri": "https://localhost:8080/",
          "height": 39
        }
      },
      "execution_count": 220,
      "outputs": [
        {
          "output_type": "execute_result",
          "data": {
            "text/latex": "$\\displaystyle u + v$",
            "text/plain": [
              "u + v"
            ]
          },
          "metadata": {},
          "execution_count": 220
        }
      ]
    },
    {
      "cell_type": "code",
      "source": [
        "thaythe_tinhtoan = bieuthuc.subs({x:2*u*v, y:u**2+v**2})\n",
        "thaythe_tinhtoan \n",
        "u**2 + 2*u*v + v**2 \n",
        "thaythe_tinhtoan.factor() "
      ],
      "metadata": {
        "id": "Ho0rPWpQ-BLx",
        "outputId": "c2394d1e-27c1-4e67-dbed-dfc3161b1807",
        "colab": {
          "base_uri": "https://localhost:8080/",
          "height": 40
        }
      },
      "execution_count": 221,
      "outputs": [
        {
          "output_type": "execute_result",
          "data": {
            "text/latex": "$\\displaystyle \\left(u + v\\right)^{2}$",
            "text/plain": [
              "(u + v)**2"
            ]
          },
          "metadata": {},
          "execution_count": 221
        }
      ]
    },
    {
      "cell_type": "code",
      "source": [
        "import sympy \n",
        "x = Symbol('x') \n",
        "y = Symbol('y') \n",
        "bieuthuc = x + y\n",
        "bieuthuc2 = x**2 + y**2 \n",
        "u = Symbol('u') \n",
        "v = Symbol('v')\n",
        "a = Symbol('a') \n",
        "from sympy import sin, cos \n",
        "bieuthuc_theo_uv = bieuthuc2.subs({x : a*sin(u), y : a*cos(u)}) \n",
        "bieuthuc_theo_uv"
      ],
      "metadata": {
        "id": "w2c4ZLcG-I1k",
        "outputId": "52c55a67-adc7-414b-ee3c-bda5554b58e8",
        "colab": {
          "base_uri": "https://localhost:8080/",
          "height": 39
        }
      },
      "execution_count": 222,
      "outputs": [
        {
          "output_type": "execute_result",
          "data": {
            "text/latex": "$\\displaystyle a^{2} \\sin^{2}{\\left(u \\right)} + a^{2} \\cos^{2}{\\left(u \\right)}$",
            "text/plain": [
              "a**2*sin(u)**2 + a**2*cos(u)**2"
            ]
          },
          "metadata": {},
          "execution_count": 222
        }
      ]
    },
    {
      "cell_type": "code",
      "source": [
        "bieuthuc_theo_uv.simplify() "
      ],
      "metadata": {
        "id": "VFr96ise-lwQ",
        "outputId": "2c1c9213-022d-4798-bc0f-1d36ee8650af",
        "colab": {
          "base_uri": "https://localhost:8080/",
          "height": 39
        }
      },
      "execution_count": 223,
      "outputs": [
        {
          "output_type": "execute_result",
          "data": {
            "text/latex": "$\\displaystyle a^{2}$",
            "text/plain": [
              "a**2"
            ]
          },
          "metadata": {},
          "execution_count": 223
        }
      ]
    },
    {
      "cell_type": "markdown",
      "source": [
        "Thực hành 3"
      ],
      "metadata": {
        "id": "JJzq_58HWRe9"
      }
    },
    {
      "cell_type": "code",
      "source": [
        "danhsach_so = [10, 15, 20]\n",
        "danhsach_so[0]"
      ],
      "metadata": {
        "id": "vLTWTxcZARq2",
        "outputId": "34f8028b-ba92-4d7d-bfc3-b95bc90e85f1",
        "colab": {
          "base_uri": "https://localhost:8080/"
        }
      },
      "execution_count": 224,
      "outputs": [
        {
          "output_type": "execute_result",
          "data": {
            "text/plain": [
              "10"
            ]
          },
          "metadata": {},
          "execution_count": 224
        }
      ]
    },
    {
      "cell_type": "code",
      "source": [
        "danhsach_so[1] "
      ],
      "metadata": {
        "id": "_IBYI-iaAXrr",
        "outputId": "e882537b-98d8-4c9f-8016-c37b7217ebff",
        "colab": {
          "base_uri": "https://localhost:8080/"
        }
      },
      "execution_count": 225,
      "outputs": [
        {
          "output_type": "execute_result",
          "data": {
            "text/plain": [
              "15"
            ]
          },
          "metadata": {},
          "execution_count": 225
        }
      ]
    },
    {
      "cell_type": "code",
      "source": [
        "danhsach_so[2] "
      ],
      "metadata": {
        "id": "ZoX8ncJ9Acty",
        "outputId": "c2aad381-a818-48e4-e15c-e47806b04b49",
        "colab": {
          "base_uri": "https://localhost:8080/"
        }
      },
      "execution_count": 226,
      "outputs": [
        {
          "output_type": "execute_result",
          "data": {
            "text/plain": [
              "20"
            ]
          },
          "metadata": {},
          "execution_count": 226
        }
      ]
    },
    {
      "cell_type": "markdown",
      "source": [
        "Thực hành 4"
      ],
      "metadata": {
        "id": "eGCLhyU_WZki"
      }
    },
    {
      "cell_type": "code",
      "source": [
        "ds = [1, 2, 3] \n",
        "for so in ds:\n",
        "  print(so) "
      ],
      "metadata": {
        "id": "20RgI3R7A5iR",
        "outputId": "e221b6c8-1c39-4d51-9c4b-8f041869b571",
        "colab": {
          "base_uri": "https://localhost:8080/"
        }
      },
      "execution_count": 227,
      "outputs": [
        {
          "output_type": "stream",
          "name": "stdout",
          "text": [
            "1\n",
            "2\n",
            "3\n"
          ]
        }
      ]
    },
    {
      "cell_type": "code",
      "source": [
        "ds = [10, 11, 12] \n",
        "for chiso, giatri in enumerate(ds):\n",
        "  print(chiso, giatri)"
      ],
      "metadata": {
        "id": "F2SO3sFdBCrU",
        "outputId": "c12be3c0-5684-4e4e-cda0-2fbd7833d660",
        "colab": {
          "base_uri": "https://localhost:8080/"
        }
      },
      "execution_count": 228,
      "outputs": [
        {
          "output_type": "stream",
          "name": "stdout",
          "text": [
            "0 10\n",
            "1 11\n",
            "2 12\n"
          ]
        }
      ]
    },
    {
      "cell_type": "markdown",
      "source": [
        "Thực hành 5"
      ],
      "metadata": {
        "id": "vS-wUhqsBP89"
      }
    },
    {
      "cell_type": "code",
      "source": [
        "x_numbers = [1, 6, 8]\n",
        "y_numbers = [2, 5, 9] \n",
        "from pylab import plot, show \n",
        "plot(x_numbers, y_numbers) "
      ],
      "metadata": {
        "id": "f-T6IAWmBRzz",
        "outputId": "6b7cc109-8b19-4dc3-94ee-53fdc97df3c4",
        "colab": {
          "base_uri": "https://localhost:8080/",
          "height": 282
        }
      },
      "execution_count": 229,
      "outputs": [
        {
          "output_type": "execute_result",
          "data": {
            "text/plain": [
              "[<matplotlib.lines.Line2D at 0x7f1b40d17e50>]"
            ]
          },
          "metadata": {},
          "execution_count": 229
        },
        {
          "output_type": "display_data",
          "data": {
            "image/png": "[encoded data removed]",
            "text/plain": [
              "<Figure size 432x288 with 1 Axes>"
            ]
          },
          "metadata": {
            "needs_background": "light"
          }
        }
      ]
    },
    {
      "cell_type": "markdown",
      "source": [
        "Thực hành 6"
      ],
      "metadata": {
        "id": "pBonNBOgWgXU"
      }
    },
    {
      "cell_type": "code",
      "source": [
        "plot(x_numbers, y_numbers, marker = 'o')"
      ],
      "metadata": {
        "id": "vflAvptNJrMv",
        "outputId": "a8886690-ed65-41df-b4a0-6bdc6b544986",
        "colab": {
          "base_uri": "https://localhost:8080/",
          "height": 282
        }
      },
      "execution_count": 230,
      "outputs": [
        {
          "output_type": "execute_result",
          "data": {
            "text/plain": [
              "[<matplotlib.lines.Line2D at 0x7f1b40cc9d50>]"
            ]
          },
          "metadata": {},
          "execution_count": 230
        },
        {
          "output_type": "display_data",
          "data": {
            "image/png": "[encoded data removed]",
            "text/plain": [
              "<Figure size 432x288 with 1 Axes>"
            ]
          },
          "metadata": {
            "needs_background": "light"
          }
        }
      ]
    },
    {
      "cell_type": "markdown",
      "source": [
        "Thực hành 7"
      ],
      "metadata": {
        "id": "5-UtzoM-JuVE"
      }
    },
    {
      "cell_type": "code",
      "source": [
        "hcm_rain = [13.8, 4.1, 10.5, 50.4, 218.4, 311.7, 293.7, 269.8, 327.1, 266.7, 116.5, 48.3] \n",
        "months = range(1, 13) \n",
        "plot(months, hcm_rain, marker = 'o') "
      ],
      "metadata": {
        "id": "GYhPD23eJzO1",
        "outputId": "c9a6af65-2f06-4d4a-c7cd-ec2d226fa40d",
        "colab": {
          "base_uri": "https://localhost:8080/",
          "height": 282
        }
      },
      "execution_count": 231,
      "outputs": [
        {
          "output_type": "execute_result",
          "data": {
            "text/plain": [
              "[<matplotlib.lines.Line2D at 0x7f1b40c63050>]"
            ]
          },
          "metadata": {},
          "execution_count": 231
        },
        {
          "output_type": "display_data",
          "data": {
            "image/png": "[encoded data removed]",
            "text/plain": [
              "<Figure size 432x288 with 1 Axes>"
            ]
          },
          "metadata": {
            "needs_background": "light"
          }
        }
      ]
    },
    {
      "cell_type": "markdown",
      "source": [
        "Thực hành 8"
      ],
      "metadata": {
        "id": "I_pr7ky6J4-Z"
      }
    },
    {
      "cell_type": "code",
      "source": [
        "from sympy import Symbol, Derivative\n",
        "t = Symbol('t') \n",
        "st = 5*t**2 + 2*t + 8\n",
        "Derivative(st, t)"
      ],
      "metadata": {
        "id": "-m68iHCQJ7ox",
        "outputId": "9be971c1-7ea4-4001-de7b-c62176e5db0f",
        "colab": {
          "base_uri": "https://localhost:8080/",
          "height": 52
        }
      },
      "execution_count": 232,
      "outputs": [
        {
          "output_type": "execute_result",
          "data": {
            "text/latex": "$\\displaystyle \\frac{d}{d t} \\left(5 t^{2} + 2 t + 8\\right)$",
            "text/plain": [
              "Derivative(5*t**2 + 2*t + 8, t)"
            ]
          },
          "metadata": {},
          "execution_count": 232
        }
      ]
    },
    {
      "cell_type": "code",
      "source": [
        "d = Derivative(st, t)\n",
        "d.doit() "
      ],
      "metadata": {
        "id": "Ic5DaAQSKI_L",
        "outputId": "4604b480-a8a1-4dec-c380-0b9e84474fc1",
        "colab": {
          "base_uri": "https://localhost:8080/",
          "height": 39
        }
      },
      "execution_count": 233,
      "outputs": [
        {
          "output_type": "execute_result",
          "data": {
            "text/latex": "$\\displaystyle 10 t + 2$",
            "text/plain": [
              "10*t + 2"
            ]
          },
          "metadata": {},
          "execution_count": 233
        }
      ]
    },
    {
      "cell_type": "code",
      "source": [
        "d.doit().subs({t:1})"
      ],
      "metadata": {
        "id": "l2M-X2J1KQ7l",
        "outputId": "d67e12e9-fad8-4719-8d1b-297f97cff70c",
        "colab": {
          "base_uri": "https://localhost:8080/",
          "height": 38
        }
      },
      "execution_count": 234,
      "outputs": [
        {
          "output_type": "execute_result",
          "data": {
            "text/latex": "$\\displaystyle 12$",
            "text/plain": [
              "12"
            ]
          },
          "metadata": {},
          "execution_count": 234
        }
      ]
    },
    {
      "cell_type": "code",
      "source": [
        "t1 = Symbol('t1')\n",
        "d.doit().subs({t:t1})"
      ],
      "metadata": {
        "id": "H9sSVhk8KYai",
        "outputId": "a0f5ca03-613d-460e-bf74-50b20bc50227",
        "colab": {
          "base_uri": "https://localhost:8080/",
          "height": 39
        }
      },
      "execution_count": 235,
      "outputs": [
        {
          "output_type": "execute_result",
          "data": {
            "text/latex": "$\\displaystyle 10 t_{1} + 2$",
            "text/plain": [
              "10*t1 + 2"
            ]
          },
          "metadata": {},
          "execution_count": 235
        }
      ]
    },
    {
      "cell_type": "code",
      "source": [
        "t2 = 10 \n",
        "d.doit().subs({t:t2}) "
      ],
      "metadata": {
        "id": "QWP02aLZKep3",
        "outputId": "5ffb14b4-2d27-4d76-8b4c-ba20f7b0fe5e",
        "colab": {
          "base_uri": "https://localhost:8080/",
          "height": 38
        }
      },
      "execution_count": 236,
      "outputs": [
        {
          "output_type": "execute_result",
          "data": {
            "text/latex": "$\\displaystyle 102$",
            "text/plain": [
              "102"
            ]
          },
          "metadata": {},
          "execution_count": 236
        }
      ]
    },
    {
      "cell_type": "markdown",
      "source": [
        "ve do thi ham so f = sin(x), x trong khoang -pi/2 den pi/2"
      ],
      "metadata": {
        "id": "lm_h7ic0K53d"
      }
    },
    {
      "cell_type": "code",
      "source": [
        "from sympy import *\n",
        "a = -2*pi\n",
        "b = 2*pi  \n",
        "f = sin(x)\n",
        "sympy.plot(f, (x,a,b))"
      ],
      "metadata": {
        "id": "nNHjvU-kK8XV",
        "outputId": "fa761a03-7143-4c4a-de44-a966a541dc57",
        "colab": {
          "base_uri": "https://localhost:8080/",
          "height": 314
        }
      },
      "execution_count": 237,
      "outputs": [
        {
          "output_type": "display_data",
          "data": {
            "image/png": "[encoded data removed]",
            "text/plain": [
              "<Figure size 432x288 with 1 Axes>"
            ]
          },
          "metadata": {
            "needs_background": "light"
          }
        },
        {
          "output_type": "execute_result",
          "data": {
            "text/plain": [
              "<sympy.plotting.plot.Plot at 0x7f1b40c119d0>"
            ]
          },
          "metadata": {},
          "execution_count": 237
        }
      ]
    },
    {
      "cell_type": "markdown",
      "source": [
        "ve do thi ham so f = abs(x), x trong khoang -2, 2"
      ],
      "metadata": {
        "id": "kCjpEEEuM2o0"
      }
    },
    {
      "cell_type": "code",
      "source": [
        "f = abs(x)\n",
        "a = -2\n",
        "b = 2\n",
        "sympy.plot(f, (x,a,b))\n"
      ],
      "metadata": {
        "id": "zWRxFxkqMl8X",
        "outputId": "cef95ae6-1c6e-4a41-ac10-877e4f83fde1",
        "colab": {
          "base_uri": "https://localhost:8080/",
          "height": 314
        }
      },
      "execution_count": 238,
      "outputs": [
        {
          "output_type": "display_data",
          "data": {
            "image/png": "[encoded data removed]",
            "text/plain": [
              "<Figure size 432x288 with 1 Axes>"
            ]
          },
          "metadata": {
            "needs_background": "light"
          }
        },
        {
          "output_type": "execute_result",
          "data": {
            "text/plain": [
              "<sympy.plotting.plot.Plot at 0x7f1b40c22c50>"
            ]
          },
          "metadata": {},
          "execution_count": 238
        }
      ]
    },
    {
      "cell_type": "markdown",
      "source": [
        "Thực hành 9"
      ],
      "metadata": {
        "id": "VJYeXN-XNVps"
      }
    },
    {
      "cell_type": "code",
      "source": [
        "from sympy import Derivative, Symbol \n",
        "x = Symbol('x')\n",
        "f = (x**3+x**2+x)*(x**2+x)\n",
        "Derivative(f, x).doit()\n",
        "(2*x + 1)*(x**3 + x**2 + x) + (x**2 + x)*(3*x**2 + 2*x + 1)"
      ],
      "metadata": {
        "id": "zZTMYIRuNdm5",
        "outputId": "5f9a1530-1c84-40a2-dcc4-75a6b7896c20",
        "colab": {
          "base_uri": "https://localhost:8080/",
          "height": 39
        }
      },
      "execution_count": 239,
      "outputs": [
        {
          "output_type": "execute_result",
          "data": {
            "text/latex": "$\\displaystyle \\left(2 x + 1\\right) \\left(x^{3} + x^{2} + x\\right) + \\left(x^{2} + x\\right) \\left(3 x^{2} + 2 x + 1\\right)$",
            "text/plain": [
              "(2*x + 1)*(x**3 + x**2 + x) + (x**2 + x)*(3*x**2 + 2*x + 1)"
            ]
          },
          "metadata": {},
          "execution_count": 239
        }
      ]
    },
    {
      "cell_type": "markdown",
      "source": [
        "Thực hành 10"
      ],
      "metadata": {
        "id": "TaBhDBf4Suz9"
      }
    },
    {
      "cell_type": "code",
      "source": [
        "f = sympy.sin(2*x)\n",
        "Derivative(f, x).doit()"
      ],
      "metadata": {
        "colab": {
          "base_uri": "https://localhost:8080/",
          "height": 39
        },
        "id": "pAWtYYTjSws9",
        "outputId": "8902325e-8fef-47a2-a967-2205db728c20"
      },
      "execution_count": 240,
      "outputs": [
        {
          "output_type": "execute_result",
          "data": {
            "text/latex": "$\\displaystyle 2 \\cos{\\left(2 x \\right)}$",
            "text/plain": [
              "2*cos(2*x)"
            ]
          },
          "metadata": {},
          "execution_count": 240
        }
      ]
    },
    {
      "cell_type": "code",
      "source": [
        "f = sympy.sin(x)*sympy.cos(x)\n",
        "f = sympy.sin(x)*sympy.cos(x)"
      ],
      "metadata": {
        "id": "Gs6JdFB8S3dc"
      },
      "execution_count": 241,
      "outputs": []
    },
    {
      "cell_type": "markdown",
      "source": [
        "Thực hành 11"
      ],
      "metadata": {
        "id": "9Rg1lGQiTCOJ"
      }
    },
    {
      "cell_type": "code",
      "source": [
        "from sympy import Symbol, solve, Derivative \n",
        "x = Symbol('x') \n",
        "f = x**5-30*x**3+50*x \n",
        "f"
      ],
      "metadata": {
        "id": "hqdHfrN6Olqj",
        "outputId": "a70db2bc-6ed5-4518-d4a9-ceb7ed0131bf",
        "colab": {
          "base_uri": "https://localhost:8080/",
          "height": 39
        }
      },
      "execution_count": 242,
      "outputs": [
        {
          "output_type": "execute_result",
          "data": {
            "text/latex": "$\\displaystyle x^{5} - 30 x^{3} + 50 x$",
            "text/plain": [
              "x**5 - 30*x**3 + 50*x"
            ]
          },
          "metadata": {},
          "execution_count": 242
        }
      ]
    },
    {
      "cell_type": "code",
      "source": [
        "d1 = Derivative(f, x).doit() \n",
        "d1"
      ],
      "metadata": {
        "id": "UYazh4hGPYem",
        "outputId": "cdf55d6c-0aa6-445f-fbaf-ea304001327d",
        "colab": {
          "base_uri": "https://localhost:8080/",
          "height": 39
        }
      },
      "execution_count": 243,
      "outputs": [
        {
          "output_type": "execute_result",
          "data": {
            "text/latex": "$\\displaystyle 5 x^{4} - 90 x^{2} + 50$",
            "text/plain": [
              "5*x**4 - 90*x**2 + 50"
            ]
          },
          "metadata": {},
          "execution_count": 243
        }
      ]
    },
    {
      "cell_type": "code",
      "source": [
        " cuctri = solve(d1)\n",
        " cuctri"
      ],
      "metadata": {
        "id": "MVPAPpzwPqTA",
        "outputId": "ab31594f-2d0a-4e72-b1c0-700929774882",
        "colab": {
          "base_uri": "https://localhost:8080/"
        }
      },
      "execution_count": 244,
      "outputs": [
        {
          "output_type": "execute_result",
          "data": {
            "text/plain": [
              "[-sqrt(9 - sqrt(71)),\n",
              " sqrt(9 - sqrt(71)),\n",
              " -sqrt(sqrt(71) + 9),\n",
              " sqrt(sqrt(71) + 9)]"
            ]
          },
          "metadata": {},
          "execution_count": 244
        }
      ]
    },
    {
      "cell_type": "code",
      "source": [
        "A = cuctri[0] \n",
        "A"
      ],
      "metadata": {
        "id": "yDOb3O5wQCTY",
        "outputId": "47a13c9b-f343-4213-f04f-265667c0b1e6",
        "colab": {
          "base_uri": "https://localhost:8080/",
          "height": 48
        }
      },
      "execution_count": 245,
      "outputs": [
        {
          "output_type": "execute_result",
          "data": {
            "text/latex": "$\\displaystyle - \\sqrt{9 - \\sqrt{71}}$",
            "text/plain": [
              "-sqrt(9 - sqrt(71))"
            ]
          },
          "metadata": {},
          "execution_count": 245
        }
      ]
    },
    {
      "cell_type": "code",
      "source": [
        "B = cuctri[2]\n",
        "B"
      ],
      "metadata": {
        "id": "5fZgwrXlQhbg",
        "colab": {
          "base_uri": "https://localhost:8080/",
          "height": 48
        },
        "outputId": "b58ea950-6d2a-44c6-9452-848ea67c4af6"
      },
      "execution_count": 246,
      "outputs": [
        {
          "output_type": "execute_result",
          "data": {
            "text/latex": "$\\displaystyle - \\sqrt{\\sqrt{71} + 9}$",
            "text/plain": [
              "-sqrt(sqrt(71) + 9)"
            ]
          },
          "metadata": {},
          "execution_count": 246
        }
      ]
    },
    {
      "cell_type": "code",
      "source": [
        "C = cuctri[0] \n",
        "C"
      ],
      "metadata": {
        "colab": {
          "base_uri": "https://localhost:8080/",
          "height": 48
        },
        "id": "gYR_WxiZQymz",
        "outputId": "38a72de7-e95f-4619-f298-9e9d6f23bb48"
      },
      "execution_count": 247,
      "outputs": [
        {
          "output_type": "execute_result",
          "data": {
            "text/latex": "$\\displaystyle - \\sqrt{9 - \\sqrt{71}}$",
            "text/plain": [
              "-sqrt(9 - sqrt(71))"
            ]
          },
          "metadata": {},
          "execution_count": 247
        }
      ]
    },
    {
      "cell_type": "code",
      "source": [
        " D = cuctri[1] \n",
        " D"
      ],
      "metadata": {
        "colab": {
          "base_uri": "https://localhost:8080/",
          "height": 48
        },
        "id": "8uILzpBzQ45x",
        "outputId": "07ca6073-809c-4c00-ab20-eb6fedf5cee3"
      },
      "execution_count": 248,
      "outputs": [
        {
          "output_type": "execute_result",
          "data": {
            "text/latex": "$\\displaystyle \\sqrt{9 - \\sqrt{71}}$",
            "text/plain": [
              "sqrt(9 - sqrt(71))"
            ]
          },
          "metadata": {},
          "execution_count": 248
        }
      ]
    },
    {
      "cell_type": "code",
      "source": [
        "E = cuctri[3] \n",
        "E"
      ],
      "metadata": {
        "colab": {
          "base_uri": "https://localhost:8080/",
          "height": 48
        },
        "id": "RCXVSyxqQ9g4",
        "outputId": "f066fdfc-6a35-4d9a-cb57-c60073b6efb3"
      },
      "execution_count": 249,
      "outputs": [
        {
          "output_type": "execute_result",
          "data": {
            "text/latex": "$\\displaystyle \\sqrt{\\sqrt{71} + 9}$",
            "text/plain": [
              "sqrt(sqrt(71) + 9)"
            ]
          },
          "metadata": {},
          "execution_count": 249
        }
      ]
    },
    {
      "cell_type": "code",
      "source": [
        "d2 = Derivative(d1, x, 2).doit()\n",
        "d2.subs({x:B}).evalf() "
      ],
      "metadata": {
        "colab": {
          "base_uri": "https://localhost:8080/",
          "height": 38
        },
        "id": "Uqnmyso2RFqf",
        "outputId": "23a45f1d-3366-4097-86c8-65486180df25"
      },
      "execution_count": 250,
      "outputs": [
        {
          "output_type": "execute_result",
          "data": {
            "text/latex": "$\\displaystyle 865.568986390581$",
            "text/plain": [
              "865.568986390581"
            ]
          },
          "metadata": {},
          "execution_count": 250
        }
      ]
    },
    {
      "cell_type": "code",
      "source": [
        " d2.subs({x:C}).evalf()"
      ],
      "metadata": {
        "colab": {
          "base_uri": "https://localhost:8080/",
          "height": 38
        },
        "id": "IaPISr9qRMMI",
        "outputId": "6bd0f048-d15a-442b-da90-9b0d214f280c"
      },
      "execution_count": 251,
      "outputs": [
        {
          "output_type": "execute_result",
          "data": {
            "text/latex": "$\\displaystyle -145.568986390582$",
            "text/plain": [
              "-145.568986390582"
            ]
          },
          "metadata": {},
          "execution_count": 251
        }
      ]
    },
    {
      "cell_type": "code",
      "source": [
        "d2.subs({x:A}).evalf() "
      ],
      "metadata": {
        "colab": {
          "base_uri": "https://localhost:8080/",
          "height": 38
        },
        "id": "fzH3cmOcROPE",
        "outputId": "a67a21da-2169-4ef1-f6ab-a6456ea58e15"
      },
      "execution_count": 252,
      "outputs": [
        {
          "output_type": "execute_result",
          "data": {
            "text/latex": "$\\displaystyle -145.568986390582$",
            "text/plain": [
              "-145.568986390582"
            ]
          },
          "metadata": {},
          "execution_count": 252
        }
      ]
    },
    {
      "cell_type": "code",
      "source": [
        "d2.subs({x:D}).evalf() "
      ],
      "metadata": {
        "colab": {
          "base_uri": "https://localhost:8080/",
          "height": 38
        },
        "id": "MQNKjJvRRQAZ",
        "outputId": "b8240926-121a-4ebb-cd92-042d9b511323"
      },
      "execution_count": 253,
      "outputs": [
        {
          "output_type": "execute_result",
          "data": {
            "text/latex": "$\\displaystyle -145.568986390582$",
            "text/plain": [
              "-145.568986390582"
            ]
          },
          "metadata": {},
          "execution_count": 253
        }
      ]
    },
    {
      "cell_type": "code",
      "source": [
        "x_min = -5"
      ],
      "metadata": {
        "id": "rouIIl2hRxDw"
      },
      "execution_count": 254,
      "outputs": []
    },
    {
      "cell_type": "code",
      "source": [
        "x_max= 5"
      ],
      "metadata": {
        "id": "8ejaRPl9SMiS"
      },
      "execution_count": 255,
      "outputs": []
    },
    {
      "cell_type": "code",
      "source": [
        "f.subs({x:B}).evalf() "
      ],
      "metadata": {
        "colab": {
          "base_uri": "https://localhost:8080/",
          "height": 38
        },
        "id": "VKtwZnhRRcZj",
        "outputId": "9a9da219-e275-4b7f-adb1-8485898c508f"
      },
      "execution_count": 256,
      "outputs": [
        {
          "output_type": "execute_result",
          "data": {
            "text/latex": "$\\displaystyle 705.959460380365$",
            "text/plain": [
              "705.959460380365"
            ]
          },
          "metadata": {},
          "execution_count": 256
        }
      ]
    },
    {
      "cell_type": "code",
      "source": [
        "f.subs({x:D}).evalf() "
      ],
      "metadata": {
        "colab": {
          "base_uri": "https://localhost:8080/",
          "height": 38
        },
        "id": "gcHXNvdbRfSz",
        "outputId": "53c73b96-422d-4155-c5b2-f2f93e7fa322"
      },
      "execution_count": 257,
      "outputs": [
        {
          "output_type": "execute_result",
          "data": {
            "text/latex": "$\\displaystyle 25.0846626340294$",
            "text/plain": [
              "25.0846626340294"
            ]
          },
          "metadata": {},
          "execution_count": 257
        }
      ]
    },
    {
      "cell_type": "code",
      "source": [
        "f.subs({x:x_min}).evalf() "
      ],
      "metadata": {
        "colab": {
          "base_uri": "https://localhost:8080/",
          "height": 38
        },
        "id": "1LSXqsulRiLM",
        "outputId": "47ac468a-38e2-4e95-c40b-64d418812dc8"
      },
      "execution_count": 258,
      "outputs": [
        {
          "output_type": "execute_result",
          "data": {
            "text/latex": "$\\displaystyle 375.0$",
            "text/plain": [
              "375.000000000000"
            ]
          },
          "metadata": {},
          "execution_count": 258
        }
      ]
    },
    {
      "cell_type": "code",
      "source": [
        "f.subs({x:x_max}).evalf() "
      ],
      "metadata": {
        "colab": {
          "base_uri": "https://localhost:8080/",
          "height": 38
        },
        "id": "Lw364hz9R4X9",
        "outputId": "cb95ff09-e20d-4126-8857-3cebeee801f7"
      },
      "execution_count": 259,
      "outputs": [
        {
          "output_type": "execute_result",
          "data": {
            "text/latex": "$\\displaystyle -375.0$",
            "text/plain": [
              "-375.000000000000"
            ]
          },
          "metadata": {},
          "execution_count": 259
        }
      ]
    },
    {
      "cell_type": "code",
      "source": [
        "from pylab import plot, show\n",
        "from sympy import *\n",
        "f = x**5 - 30*x**3 + 50*x\n",
        "sympy.plot(f, (x, -5, 5)) "
      ],
      "metadata": {
        "colab": {
          "base_uri": "https://localhost:8080/",
          "height": 314
        },
        "id": "TeCCSF9ATM8A",
        "outputId": "995d4257-2127-4466-c38d-a02c50513a9e"
      },
      "execution_count": 260,
      "outputs": [
        {
          "output_type": "display_data",
          "data": {
            "image/png": "[encoded data removed]",
            "text/plain": [
              "<Figure size 432x288 with 1 Axes>"
            ]
          },
          "metadata": {
            "needs_background": "light"
          }
        },
        {
          "output_type": "execute_result",
          "data": {
            "text/plain": [
              "<sympy.plotting.plot.Plot at 0x7f1b40c22690>"
            ]
          },
          "metadata": {},
          "execution_count": 260
        }
      ]
    },
    {
      "cell_type": "markdown",
      "source": [
        "Bài tập 1"
      ],
      "metadata": {
        "id": "IdVg5PdzULty"
      }
    },
    {
      "cell_type": "code",
      "source": [
        "from pylab import plot, show \n",
        "tb_mua = [13.8, 4.1, 10.5, 50.4, 218.4, 311.7, 293.7, 269.8, 327.1, 266.7, 116.5, 48.3] \n",
        "months = range(1, 13) \n",
        "plot(months, tb_mua, marker = 'o') "
      ],
      "metadata": {
        "colab": {
          "base_uri": "https://localhost:8080/",
          "height": 282
        },
        "id": "Ktt7SsU_UNM-",
        "outputId": "ad453837-0416-406b-c8c9-103ce602a9b4"
      },
      "execution_count": 262,
      "outputs": [
        {
          "output_type": "execute_result",
          "data": {
            "text/plain": [
              "[<matplotlib.lines.Line2D at 0x7f1b40a43e10>]"
            ]
          },
          "metadata": {},
          "execution_count": 262
        },
        {
          "output_type": "display_data",
          "data": {
            "image/png": "[encoded data removed]",
            "text/plain": [
              "<Figure size 432x288 with 1 Axes>"
            ]
          },
          "metadata": {
            "needs_background": "light"
          }
        }
      ]
    },
    {
      "cell_type": "code",
      "source": [
        "from pylab import plot, show \n",
        "tb_nang = [12.8, 4.1, 10.5, 50.4, 268.4, 301.7, 234, 269.8, 353.1, 266.7, 176.5, 4348.3] \n",
        "months = range(1, 13) \n",
        "plot(months, tb_nang, marker = 'o') "
      ],
      "metadata": {
        "colab": {
          "base_uri": "https://localhost:8080/",
          "height": 282
        },
        "id": "mp66Yi7FW3mT",
        "outputId": "dd4ab64b-e93d-4120-fb0b-43510f5e194d"
      },
      "execution_count": 264,
      "outputs": [
        {
          "output_type": "execute_result",
          "data": {
            "text/plain": [
              "[<matplotlib.lines.Line2D at 0x7f1b409a61d0>]"
            ]
          },
          "metadata": {},
          "execution_count": 264
        },
        {
          "output_type": "display_data",
          "data": {
            "image/png": "[encoded data removed]",
            "text/plain": [
              "<Figure size 432x288 with 1 Axes>"
            ]
          },
          "metadata": {
            "needs_background": "light"
          }
        }
      ]
    }
  ]
}